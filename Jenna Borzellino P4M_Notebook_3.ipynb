{
  "nbformat": 4,
  "nbformat_minor": 0,
  "metadata": {
    "kernelspec": {
      "display_name": "Python 3",
      "language": "python",
      "name": "python3"
    },
    "language_info": {
      "codemirror_mode": {
        "name": "ipython",
        "version": 3
      },
      "file_extension": ".py",
      "mimetype": "text/x-python",
      "name": "python",
      "nbconvert_exporter": "python",
      "pygments_lexer": "ipython3",
      "version": "3.6.7"
    },
    "colab": {
      "provenance": [],
      "toc_visible": true,
      "include_colab_link": true
    }
  },
  "cells": [
    {
      "cell_type": "markdown",
      "metadata": {
        "id": "view-in-github",
        "colab_type": "text"
      },
      "source": [
        "<a href=\"https://colab.research.google.com/github/jborzell/Math-152/blob/main/Jenna%20Borzellino%20P4M_Notebook_3.ipynb\" target=\"_parent\"><img src=\"https://colab.research.google.com/assets/colab-badge.svg\" alt=\"Open In Colab\"/></a>"
      ]
    },
    {
      "cell_type": "markdown",
      "metadata": {
        "id": "6wh71ZCco1Nc"
      },
      "source": [
        "# Part 3:  Lists\n",
        "\n",
        "Python provides a powerful set of tools to create and manipulate lists of data. In this part, we take a deep dive into the Python list type.  This includes mutability, list methods, and slicing.\n",
        "\n",
        "\n",
        "Then we use Python lists to implement and optimize the Sieve of Eratosthenes, which will produce a list of all prime numbers up to a big number (like 10 million) in a snap. Along the way, we introduce some Python techniques for data analysis and visualization."
      ]
    },
    {
      "cell_type": "markdown",
      "metadata": {
        "id": "V1d8-qavo1Ng"
      },
      "source": [
        "## Primality testing"
      ]
    },
    {
      "cell_type": "markdown",
      "metadata": {
        "id": "o8GcrfMBo1Ng"
      },
      "source": [
        "Before diving into lists, we recall the **brute force** primality test that we created in the last lesson.  To test whether a number `n` is prime, we can simply check for factors.  This yields the following primality test."
      ]
    },
    {
      "cell_type": "code",
      "metadata": {
        "id": "PmShUfrWo1Nh"
      },
      "source": [
        "def is_prime(n):\n",
        "    '''\n",
        "    Checks whether the argument n is a prime number.\n",
        "    Uses a brute force search for factors between 1 and n.\n",
        "    '''\n",
        "    for j in range(2,n):  # the range of numbers 2,3,...,n-1.\n",
        "        if n%j == 0:  # is n divisible by j?\n",
        "            \n",
        "            return False\n",
        "    return True"
      ],
      "execution_count": null,
      "outputs": []
    },
    {
      "cell_type": "markdown",
      "metadata": {
        "id": "ps6dGQ_lo1Nh"
      },
      "source": [
        "We can also implement this test with a **while loop** instead of a for loop.  This doesn't make much of a difference, in Python 3.x.  (In Python 2.x, this would save memory)."
      ]
    },
    {
      "cell_type": "code",
      "metadata": {
        "id": "uyU1DxPjo1Nh"
      },
      "source": [
        "def is_prime(n):\n",
        "    '''\n",
        "    Checks whether the argument n is a prime number.\n",
        "    Uses a brute force search for factors between 1 and n.\n",
        "    '''\n",
        "    j = 2\n",
        "    while j < n:  # j will proceed through the list of numbers 2,3,...,n-1.\n",
        "        if n%j == 0:  # is n divisible by j?\n",
        "            \n",
        "            return False\n",
        "        j = j + 1  # There's a Python abbreviation for this:  j += 1.\n",
        "    return True"
      ],
      "execution_count": null,
      "outputs": []
    },
    {
      "cell_type": "code",
      "metadata": {
        "id": "n8VNDo3Ro1Nh",
        "colab": {
          "base_uri": "https://localhost:8080/"
        },
        "outputId": "0b3122f8-d46b-4f68-fa31-c414194f455f"
      },
      "source": [
        "is_prime(10001)"
      ],
      "execution_count": null,
      "outputs": [
        {
          "output_type": "execute_result",
          "data": {
            "text/plain": [
              "False"
            ]
          },
          "metadata": {},
          "execution_count": 17
        }
      ]
    },
    {
      "cell_type": "code",
      "metadata": {
        "id": "EwsTzmDJo1Nh",
        "colab": {
          "base_uri": "https://localhost:8080/"
        },
        "outputId": "269a831d-8c1f-4652-e8fc-6d9bd76c0583"
      },
      "source": [
        "is_prime(101)"
      ],
      "execution_count": null,
      "outputs": [
        {
          "output_type": "execute_result",
          "data": {
            "text/plain": [
              "True"
            ]
          },
          "metadata": {},
          "execution_count": 18
        }
      ]
    },
    {
      "cell_type": "markdown",
      "metadata": {
        "id": "LMiisxZko1Ni"
      },
      "source": [
        "If $n$ is a prime number, then the `is_prime(n)` function will iterate through all the numbers between $2$ and $n-1$.  But this is overkill!  Indeed, if $n$ is not prime, it will have a factor between $2$ and the square root of $n$.  This is because factors come in pairs:  if $ab = n$, then one of the factors, $a$ or $b$, must be less than or equal to the square root of $n$.  So it suffices to search for factors up to (and including) the square root of $n$."
      ]
    },
    {
      "cell_type": "markdown",
      "metadata": {
        "id": "QlS5mEtko1Ni"
      },
      "source": [
        "Even though we've made our own sqrt function, we load a fast one from the [standard math package](https://docs.python.org/3/library/math.html).  You can use this for square roots, trig functions, logs, and more.  Click the previous link for documentation.  This package doesn't load automatically when you start Python, so you have to load it with a little Python code."
      ]
    },
    {
      "cell_type": "code",
      "metadata": {
        "id": "StYgB3R2o1Ni"
      },
      "source": [
        "from math import sqrt"
      ],
      "execution_count": null,
      "outputs": []
    },
    {
      "cell_type": "markdown",
      "metadata": {
        "id": "g5qCsftto1Ni"
      },
      "source": [
        "This command **imports** the square root function (`sqrt`) from the **package** called `math`.  Now you can find square roots."
      ]
    },
    {
      "cell_type": "code",
      "metadata": {
        "id": "yky_CASQo1Ni",
        "colab": {
          "base_uri": "https://localhost:8080/"
        },
        "outputId": "84178208-cf02-4ebc-ff30-44ffb904060b"
      },
      "source": [
        "sqrt(1000)"
      ],
      "execution_count": null,
      "outputs": [
        {
          "output_type": "execute_result",
          "data": {
            "text/plain": [
              "31.622776601683793"
            ]
          },
          "metadata": {},
          "execution_count": 20
        }
      ]
    },
    {
      "cell_type": "markdown",
      "metadata": {
        "id": "G6KIJi-Go1Ni"
      },
      "source": [
        "There are a few different ways to import functions from packages.  The above syntax is a good starting point, but sometimes problems can arise if different packages have functions with the same name.  Here are a few methods of importing the `sqrt` function and how they differ.\n",
        "\n",
        "`from math import sqrt`:  After this command, `sqrt` will refer to the function from the `math` package (overriding any previous definition).\n",
        "\n",
        "`import math`:  After this command, all the functions from the `math` package will be imported.  But to call `sqrt`, you would type a command like `math.sqrt(1000)`.  This is convenient if there are potential conflicts with other packages.\n",
        "\n",
        "`from math import *`:  After this command, all the functions from the `math` package will be imported.  To call them, you can access them directly with a command like `sqrt(1000)`.  This can easily cause conflicts with other packages, since packages can have hundreds of functions in them!\n",
        "\n",
        "`import math as mth`:  Some people like abbreviations.  This imports all the functions from the `math` package.  To call one, you type a command like `mth.sqrt(1000)`. "
      ]
    },
    {
      "cell_type": "code",
      "metadata": {
        "id": "DkMBWCH2o1Nj"
      },
      "source": [
        "import math"
      ],
      "execution_count": null,
      "outputs": []
    },
    {
      "cell_type": "code",
      "metadata": {
        "id": "JCOkoqBJo1Nj",
        "colab": {
          "base_uri": "https://localhost:8080/"
        },
        "outputId": "c2c54795-571c-4d61-f22a-d733eec3c3f7"
      },
      "source": [
        "math.sqrt(1000)"
      ],
      "execution_count": null,
      "outputs": [
        {
          "output_type": "execute_result",
          "data": {
            "text/plain": [
              "31.622776601683793"
            ]
          },
          "metadata": {},
          "execution_count": 22
        }
      ]
    },
    {
      "cell_type": "code",
      "metadata": {
        "id": "1wHHxCBvo1Nj",
        "colab": {
          "base_uri": "https://localhost:8080/",
          "height": 169
        },
        "outputId": "258435c7-0abf-42d8-a476-ff2edc6121b7"
      },
      "source": [
        "factorial(10)  # This will cause an error!"
      ],
      "execution_count": null,
      "outputs": [
        {
          "output_type": "error",
          "ename": "NameError",
          "evalue": "ignored",
          "traceback": [
            "\u001b[0;31m---------------------------------------------------------------------------\u001b[0m",
            "\u001b[0;31mNameError\u001b[0m                                 Traceback (most recent call last)",
            "\u001b[0;32m<ipython-input-23-e379444d4994>\u001b[0m in \u001b[0;36m<module>\u001b[0;34m\u001b[0m\n\u001b[0;32m----> 1\u001b[0;31m \u001b[0mfactorial\u001b[0m\u001b[0;34m(\u001b[0m\u001b[0;36m10\u001b[0m\u001b[0;34m)\u001b[0m  \u001b[0;31m# This will cause an error!\u001b[0m\u001b[0;34m\u001b[0m\u001b[0;34m\u001b[0m\u001b[0m\n\u001b[0m",
            "\u001b[0;31mNameError\u001b[0m: name 'factorial' is not defined"
          ]
        }
      ]
    },
    {
      "cell_type": "code",
      "metadata": {
        "id": "q3_f65bdo1Nj",
        "colab": {
          "base_uri": "https://localhost:8080/"
        },
        "outputId": "6e442fb4-c662-4c8e-ed92-218421dd9d12"
      },
      "source": [
        "math.factorial(10)  # This is ok, since the math package comes with a function called factorial."
      ],
      "execution_count": null,
      "outputs": [
        {
          "output_type": "execute_result",
          "data": {
            "text/plain": [
              "3628800"
            ]
          },
          "metadata": {},
          "execution_count": 24
        }
      ]
    },
    {
      "cell_type": "markdown",
      "metadata": {
        "id": "PercB7IRo1Nj"
      },
      "source": [
        "Now let's improve our `is_prime(n)` function by searching for factors only up to the square root of the number `n`.  We consider two options."
      ]
    },
    {
      "cell_type": "code",
      "metadata": {
        "id": "1jFrsNtvo1Nj"
      },
      "source": [
        "def is_prime_slow(n):\n",
        "    '''\n",
        "    Checks whether the argument n is a prime number.\n",
        "    Uses a brute force search for factors between 1 and n.\n",
        "    '''\n",
        "    j = 2\n",
        "    while j <= sqrt(n):  # j will proceed through the list of numbers 2,3,... up to sqrt(n).\n",
        "        if n%j == 0:  # is n divisible by j?\n",
        "            \n",
        "            return False\n",
        "        j = j + 1  # There's a Python abbreviation for this:  j += 1.\n",
        "    return True"
      ],
      "execution_count": null,
      "outputs": []
    },
    {
      "cell_type": "code",
      "metadata": {
        "id": "kivEWwP8o1Nj"
      },
      "source": [
        "def is_prime_fast(n):\n",
        "    '''\n",
        "    Checks whether the argument n is a prime number.\n",
        "    Uses a brute force search for factors between 1 and n.\n",
        "    '''\n",
        "    j = 2\n",
        "    root_n = sqrt(n)\n",
        "    while j <= root_n:  # j will proceed through the list of numbers 2,3,... up to sqrt(n).\n",
        "        if n%j == 0:  # is n divisible by j?\n",
        "            \n",
        "            return False\n",
        "        j = j + 1  # There's a Python abbreviation for this:  j += 1.\n",
        "    return True"
      ],
      "execution_count": null,
      "outputs": []
    },
    {
      "cell_type": "code",
      "metadata": {
        "id": "MYRn_kwAo1Nk",
        "colab": {
          "base_uri": "https://localhost:8080/"
        },
        "outputId": "476b1ea1-bd9c-4024-8638-95749823cf9d"
      },
      "source": [
        "is_prime_fast(1000003)"
      ],
      "execution_count": null,
      "outputs": [
        {
          "output_type": "execute_result",
          "data": {
            "text/plain": [
              "True"
            ]
          },
          "metadata": {},
          "execution_count": 27
        }
      ]
    },
    {
      "cell_type": "code",
      "metadata": {
        "id": "CycTNs3Yo1Nk",
        "colab": {
          "base_uri": "https://localhost:8080/"
        },
        "outputId": "59ed0bce-7e58-4058-9840-840c35797cd6"
      },
      "source": [
        "is_prime_slow(1000003)"
      ],
      "execution_count": null,
      "outputs": [
        {
          "output_type": "execute_result",
          "data": {
            "text/plain": [
              "True"
            ]
          },
          "metadata": {},
          "execution_count": 28
        }
      ]
    },
    {
      "cell_type": "markdown",
      "metadata": {
        "id": "a2_C-DRco1Nk"
      },
      "source": [
        "I've chosen function names with \"fast\" and \"slow\" in them.  But what makes them faster or slower?  Are they faster than the original?  And how can we tell?\n",
        "\n",
        "Python comes with a great set of tools for these questions.  The simplest (for the user) are the time utilities.  By placing the **magic** `%timeit` before a command, Python does something like the following:\n",
        "\n",
        "1.  Python makes a little container in your computer devoted to the computations, to avoid interference from other running programs if possible.\n",
        "2.  Python executes the command lots and lots of times.\n",
        "3.  Python averages the amount of time taken for each execution.  \n",
        "\n",
        "Give it a try below, to compare the speed of the functions `is_prime` (the original) with the new `is_prime_fast` and `is_prime_slow`.  Note that the `%timeit` commands might take a little while."
      ]
    },
    {
      "cell_type": "markdown",
      "metadata": {
        "id": "gBRDJBA3a2U9"
      },
      "source": [
        "*Warning!*  Before running the is_prime_fast and is_prime_slow functions within %timeit, please *remove* all print statements from the functions and recompile them.  Otherwise, you might end up printing a million things in your browser window, possibly crashing your computer."
      ]
    },
    {
      "cell_type": "code",
      "metadata": {
        "id": "9362eqX8o1Nk",
        "colab": {
          "base_uri": "https://localhost:8080/"
        },
        "outputId": "b6644f40-b83e-4715-f91a-2d764cd98c15"
      },
      "source": [
        "%timeit is_prime_fast(1000003)"
      ],
      "execution_count": null,
      "outputs": [
        {
          "output_type": "stream",
          "name": "stdout",
          "text": [
            "229 µs ± 6.56 µs per loop (mean ± std. dev. of 7 runs, 1000 loops each)\n"
          ]
        }
      ]
    },
    {
      "cell_type": "code",
      "metadata": {
        "id": "GlQqgs6Fo1Nk",
        "colab": {
          "base_uri": "https://localhost:8080/"
        },
        "outputId": "4661f3da-95e0-4ef1-e7a5-755a4e77a7d4"
      },
      "source": [
        "%timeit is_prime_slow(1000003)"
      ],
      "execution_count": null,
      "outputs": [
        {
          "output_type": "stream",
          "name": "stdout",
          "text": [
            "202 µs ± 4.46 µs per loop (mean ± std. dev. of 7 runs, 1000 loops each)\n"
          ]
        }
      ]
    },
    {
      "cell_type": "code",
      "metadata": {
        "id": "MMoNyEsOo1Nk",
        "colab": {
          "base_uri": "https://localhost:8080/"
        },
        "outputId": "ac7ce6b6-6b6a-4328-c409-b8417886d259"
      },
      "source": [
        "%timeit is_prime(1000003)"
      ],
      "execution_count": null,
      "outputs": [
        {
          "output_type": "stream",
          "name": "stdout",
          "text": [
            "73.6 ms ± 1.52 ms per loop (mean ± std. dev. of 7 runs, 10 loops each)\n"
          ]
        }
      ]
    },
    {
      "cell_type": "markdown",
      "metadata": {
        "id": "uR7IkJbEo1Nk"
      },
      "source": [
        "Time is measured in seconds, milliseconds (1 ms = 1/1000 second), microseconds (1 µs = 1/1,000,000 second), and nanoseconds (1 ns = 1/1,000,000,000 second).  So it might appear at first that `is_prime` is the fastest, or about the same speed.  But check the units!  The other two approaches are about a thousand times faster!  How much faster were they on your computer?"
      ]
    },
    {
      "cell_type": "code",
      "metadata": {
        "id": "hPOknCuUo1Nk",
        "colab": {
          "base_uri": "https://localhost:8080/"
        },
        "outputId": "62b0e99f-4e6e-4627-b456-b77fd44be020"
      },
      "source": [
        "is_prime_fast(10000000000037)  # Don't try this with `is_prime` unless you want to wait for a long time!"
      ],
      "execution_count": null,
      "outputs": [
        {
          "output_type": "execute_result",
          "data": {
            "text/plain": [
              "True"
            ]
          },
          "metadata": {},
          "execution_count": 29
        }
      ]
    },
    {
      "cell_type": "markdown",
      "metadata": {
        "id": "YtkronFFo1Nl"
      },
      "source": [
        "Indeed, the `is_prime_fast(n)` function will go through a loop of length about `sqrt(n)` when `n` is prime.  But `is_prime(n)` will go through a loop of length about `n`.  Since `sqrt(n)` is much less than `n`, especially when `n` is large, the `is_prime_fast(n)` function is much faster.\n",
        "\n",
        "Between `is_prime_fast` and `is_prime_slow`, the difference is that the `fast` version **precomputes** the square root `sqrt(n)` before going through the loop, where the `slow` version repeats the `sqrt(n)` every time the loop is repeated.  Indeed, writing `while j <= sqrt(n):` suggests that Python might execute `sqrt(n)` every time to check.  This *might* lead to Python computing the same square root a million times... unnecessarily!  \n",
        "\n",
        "A basic principle of programming is to **avoid repetition**.  If you have the memory space, just compute once and store the result.  It will probably be faster to pull the result out of memory than to compute it again.\n",
        "\n",
        "Python does tend to be pretty smart, however.  It's possible that Python **is precomputing** `sqrt(n)` even in the slow loop, just because it's clever enough to tell in advance that the same thing is being computed over and over again.  This depends on your Python version and takes place behind the scenes.  If you want to figure it out, there's a whole set of tools (for advanced programmers) like the [disassembler](https://docs.python.org/3/library/dis.html) to figure out what Python is doing.\n",
        "\n",
        "If you feel like looking under the hood, the next few lines will display the `is_prime_fast` and `is_prime_slow` functions to bytecode.  Can you see how the `sqrt(n)` computation is carried out differently?"
      ]
    },
    {
      "cell_type": "code",
      "metadata": {
        "id": "hislzK3Lo1Nl"
      },
      "source": [
        "from dis import dis"
      ],
      "execution_count": null,
      "outputs": []
    },
    {
      "cell_type": "code",
      "metadata": {
        "id": "wQX1FSObo1Nl",
        "colab": {
          "base_uri": "https://localhost:8080/"
        },
        "outputId": "db19fcef-7af1-4435-c978-3fc5867eb6fc"
      },
      "source": [
        "dis(is_prime_fast)"
      ],
      "execution_count": null,
      "outputs": [
        {
          "output_type": "stream",
          "name": "stdout",
          "text": [
            "  6           0 LOAD_CONST               1 (2)\n",
            "              2 STORE_FAST               1 (j)\n",
            "\n",
            "  7           4 LOAD_GLOBAL              0 (sqrt)\n",
            "              6 LOAD_FAST                0 (n)\n",
            "              8 CALL_FUNCTION            1\n",
            "             10 STORE_FAST               2 (root_n)\n",
            "\n",
            "  8     >>   12 LOAD_FAST                1 (j)\n",
            "             14 LOAD_FAST                2 (root_n)\n",
            "             16 COMPARE_OP               1 (<=)\n",
            "             18 POP_JUMP_IF_FALSE       46\n",
            "\n",
            "  9          20 LOAD_FAST                0 (n)\n",
            "             22 LOAD_FAST                1 (j)\n",
            "             24 BINARY_MODULO\n",
            "             26 LOAD_CONST               2 (0)\n",
            "             28 COMPARE_OP               2 (==)\n",
            "             30 POP_JUMP_IF_FALSE       36\n",
            "\n",
            " 11          32 LOAD_CONST               3 (False)\n",
            "             34 RETURN_VALUE\n",
            "\n",
            " 12     >>   36 LOAD_FAST                1 (j)\n",
            "             38 LOAD_CONST               4 (1)\n",
            "             40 BINARY_ADD\n",
            "             42 STORE_FAST               1 (j)\n",
            "             44 JUMP_ABSOLUTE           12\n",
            "\n",
            " 13     >>   46 LOAD_CONST               5 (True)\n",
            "             48 RETURN_VALUE\n"
          ]
        }
      ]
    },
    {
      "cell_type": "code",
      "metadata": {
        "id": "M_T0805ko1Nl",
        "colab": {
          "base_uri": "https://localhost:8080/"
        },
        "outputId": "b5cbab9d-e0db-4bf4-affa-be07bf9142d1"
      },
      "source": [
        "dis(is_prime_slow)"
      ],
      "execution_count": null,
      "outputs": [
        {
          "output_type": "stream",
          "name": "stdout",
          "text": [
            "  6           0 LOAD_CONST               1 (2)\n",
            "              2 STORE_FAST               1 (j)\n",
            "\n",
            "  7     >>    4 LOAD_FAST                1 (j)\n",
            "              6 LOAD_GLOBAL              0 (sqrt)\n",
            "              8 LOAD_FAST                0 (n)\n",
            "             10 CALL_FUNCTION            1\n",
            "             12 COMPARE_OP               1 (<=)\n",
            "             14 POP_JUMP_IF_FALSE       42\n",
            "\n",
            "  8          16 LOAD_FAST                0 (n)\n",
            "             18 LOAD_FAST                1 (j)\n",
            "             20 BINARY_MODULO\n",
            "             22 LOAD_CONST               2 (0)\n",
            "             24 COMPARE_OP               2 (==)\n",
            "             26 POP_JUMP_IF_FALSE       32\n",
            "\n",
            " 10          28 LOAD_CONST               3 (False)\n",
            "             30 RETURN_VALUE\n",
            "\n",
            " 11     >>   32 LOAD_FAST                1 (j)\n",
            "             34 LOAD_CONST               4 (1)\n",
            "             36 BINARY_ADD\n",
            "             38 STORE_FAST               1 (j)\n",
            "             40 JUMP_ABSOLUTE            4\n",
            "\n",
            " 12     >>   42 LOAD_CONST               5 (True)\n",
            "             44 RETURN_VALUE\n"
          ]
        }
      ]
    },
    {
      "cell_type": "code",
      "metadata": {
        "id": "1mendW3Uo1Nl",
        "colab": {
          "base_uri": "https://localhost:8080/"
        },
        "outputId": "04aa7cd0-7b16-457b-8f77-ab41f2487f49"
      },
      "source": [
        "is_prime_fast(10**14 + 37) # This might get a bit of delay."
      ],
      "execution_count": null,
      "outputs": [
        {
          "output_type": "execute_result",
          "data": {
            "text/plain": [
              "False"
            ]
          },
          "metadata": {},
          "execution_count": 33
        }
      ]
    },
    {
      "cell_type": "markdown",
      "metadata": {
        "id": "DUEOKxtoo1Nm"
      },
      "source": [
        "Now we have a function `is_prime_fast(n)` that is speedy for numbers `n` in the trillions!  You'll probably start to hit a delay around $10^{15}$ or so, and the delays will become intolerable if you add too many more digits.  In a future lesson, we will see a different primality test that will be essentially instant even for numbers around $10^{1000}$!  "
      ]
    },
    {
      "cell_type": "markdown",
      "metadata": {
        "id": "NCv3bAIco1Nm"
      },
      "source": [
        "### Exercises\n",
        "\n",
        "1.  To check whether a number `n` is prime, you can first check whether `n` is even, and then check whether `n` has any odd factors.  Change the `is_prime_fast` function by implementing this improvement.  How much of a speedup did you get?\n",
        "\n",
        "2.  Use the `%timeit` tool to study the speed of `is_prime_fast` for various sizes of `n`.  Using about 10 data points, relate the size of `n` to the time taken by the `is_prime_fast` function.\n",
        "\n",
        "3.  Write a function `is_square(n)` to test whether a given integer `n` is a perfect square (like 0, 1, 4, 9, 16, etc.).  How fast can you make it run?  Describe the different approaches you try and which are fastest."
      ]
    },
    {
      "cell_type": "code",
      "source": [
        "#1 \n",
        "def is_prime_fast(n):\n",
        "    if n%2==0:\n",
        "      return False\n",
        "    else:\n",
        "      j = 3\n",
        "      root_n = sqrt(n)\n",
        "      while j <= root_n:  # j will proceed through the list of numbers 2,3,... up to sqrt(n).\n",
        "          if n%j == 0:  # is n divisible by j?\n",
        "            \n",
        "             return False\n",
        "          j = j + 2  # There's a Python abbreviation for this:  j += 1.\n",
        "      return True\n",
        "\n",
        "#2\n",
        "%timeit is_prime_fast(1000003)\n",
        "%timeit is_prime_fast(100000000003)\n",
        "%timeit is_prime_fast(1003)\n",
        "%timeit is_prime_fast(100000)\n",
        "%timeit is_prime_fast(10000000000)\n",
        "%timeit is_prime_fast(2000003)\n",
        "# It seems that even my big numbers run faster than small ones sometimes, and I haven't\n",
        "#found a correlation between the size of the number. It also seems to take significantly longer\n",
        "#with all of the numbers together. The even numbers went the fastest for sure, along with the\n",
        "#smaller numbers going into the nanoseconds, however once the numbers start to get really big\n",
        "# I still can't find a correlation.\n",
        "\n",
        " "
      ],
      "metadata": {
        "colab": {
          "base_uri": "https://localhost:8080/"
        },
        "id": "plzYEmC4h-Bd",
        "outputId": "0f703aac-29be-469f-d13d-b16ce70fe391"
      },
      "execution_count": null,
      "outputs": [
        {
          "output_type": "stream",
          "name": "stdout",
          "text": [
            "70.9 µs ± 5.44 µs per loop (mean ± std. dev. of 7 runs, 10000 loops each)\n"
          ]
        }
      ]
    },
    {
      "cell_type": "code",
      "source": [
        "#3\n",
        "def is_square(n):\n",
        "  if n%sqrt(n)==0:\n",
        "   return True\n",
        "  else:\n",
        "    return False\n",
        "\n",
        "def is_square_faster(n):\n",
        "  if sqrt(n)==int(sqrt(n)):\n",
        "    return True\n",
        "  else:\n",
        "    return False\n",
        "\n",
        "%timeit is_square(9)\n",
        "%timeit is_square_faster(9)\n",
        "\n",
        "#My first way ended up being faster than my second way, I couldn't think of many ways to do this\n",
        "#so I tried both of these. I am surprised that the second one took longer because it is only \n",
        "#checking the type of number the square root of n is where as the other one seems to be doing more\n",
        "#calculating."
      ],
      "metadata": {
        "colab": {
          "base_uri": "https://localhost:8080/"
        },
        "id": "jGfVhOHUolgH",
        "outputId": "164b2b3d-8b27-4dbc-ef74-3ae0ad2e758e"
      },
      "execution_count": null,
      "outputs": [
        {
          "output_type": "stream",
          "name": "stdout",
          "text": [
            "247 ns ± 10.3 ns per loop (mean ± std. dev. of 7 runs, 1000000 loops each)\n",
            "348 ns ± 64.9 ns per loop (mean ± std. dev. of 7 runs, 1000000 loops each)\n"
          ]
        }
      ]
    },
    {
      "cell_type": "code",
      "source": [
        "is_square(21)"
      ],
      "metadata": {
        "colab": {
          "base_uri": "https://localhost:8080/"
        },
        "id": "a2k8n1uom6eL",
        "outputId": "fcf8a991-e542-4ac9-a7ae-32cbb6eb5e8e"
      },
      "execution_count": null,
      "outputs": [
        {
          "output_type": "execute_result",
          "data": {
            "text/plain": [
              "False"
            ]
          },
          "metadata": {},
          "execution_count": 48
        }
      ]
    },
    {
      "cell_type": "code",
      "source": [
        "sqrt(9)"
      ],
      "metadata": {
        "colab": {
          "base_uri": "https://localhost:8080/"
        },
        "id": "I8llphJtngVj",
        "outputId": "f1fac209-67c5-40eb-c40f-d89740305b7a"
      },
      "execution_count": null,
      "outputs": [
        {
          "output_type": "execute_result",
          "data": {
            "text/plain": [
              "3.0"
            ]
          },
          "metadata": {},
          "execution_count": 41
        }
      ]
    },
    {
      "cell_type": "markdown",
      "metadata": {
        "id": "J_Xx10hBo1Nm"
      },
      "source": [
        "## List manipulation"
      ]
    },
    {
      "cell_type": "markdown",
      "metadata": {
        "id": "7Wd7YSnxo1Nm"
      },
      "source": [
        "We have already (briefly) encountered the `list` type in Python.  Recall that the `range` command produces a range, which can be used to produce a list.  For example, `list(range(10))` produces the list `[0,1,2,3,4,5,6,7,8,9]`.  You can also create your own list by a writing out its terms, e.g. `L = [4,7,10]`.\n",
        "\n",
        "Here we work with lists, and a very Pythonic approach to list manipulation.  With practice, this can be a powerful tool to write fast algorithms, exploiting the hard-wired capability of your computer to shift and slice large chunks of data.  Our eventual application will be to implement the Sieve of Eratosthenes, producing a long list of prime numbers (without using any `is_prime` test along the way)."
      ]
    },
    {
      "cell_type": "markdown",
      "metadata": {
        "id": "60AyLZgto1Nm"
      },
      "source": [
        "We begin by creating a list to play with.  We mix numbers and strings... just for fun."
      ]
    },
    {
      "cell_type": "code",
      "metadata": {
        "id": "LqlPEQ6jo1Nm"
      },
      "source": [
        "L = [0,'one',2,'three',4,'five',6,'seven',8,'nine',10]"
      ],
      "execution_count": null,
      "outputs": []
    },
    {
      "cell_type": "markdown",
      "metadata": {
        "id": "k3Isc4hVo1Nm"
      },
      "source": [
        "### List terms and indices\n",
        "\n",
        "Notice that the entries in a list can be of any type.  The above list `L` has some integer entries and some string entries.  Lists are **ordered** in Python, **starting at zero**.  One can access the $n^{th}$ entry in a list with a command like `L[n]`.  "
      ]
    },
    {
      "cell_type": "code",
      "metadata": {
        "id": "P6pVVcg7o1Nn",
        "colab": {
          "base_uri": "https://localhost:8080/",
          "height": 35
        },
        "outputId": "d7b56fdf-260c-42bf-c2be-9ce290f8c4af"
      },
      "source": [
        "L[3]"
      ],
      "execution_count": null,
      "outputs": [
        {
          "output_type": "execute_result",
          "data": {
            "text/plain": [
              "'three'"
            ],
            "application/vnd.google.colaboratory.intrinsic+json": {
              "type": "string"
            }
          },
          "metadata": {},
          "execution_count": 52
        }
      ]
    },
    {
      "cell_type": "code",
      "metadata": {
        "id": "jX8qwH8Co1Nn",
        "colab": {
          "base_uri": "https://localhost:8080/"
        },
        "outputId": "0b2386d9-5e67-407d-9d7b-a5a4e6eb5053"
      },
      "source": [
        "print(L[3])  # Note that Python has slightly different approaches to the print-function, and the output above."
      ],
      "execution_count": null,
      "outputs": [
        {
          "output_type": "stream",
          "name": "stdout",
          "text": [
            "three\n"
          ]
        }
      ]
    },
    {
      "cell_type": "code",
      "metadata": {
        "id": "SrEwDHyRo1Nn",
        "colab": {
          "base_uri": "https://localhost:8080/"
        },
        "outputId": "2558d096-cac8-46e9-fc32-8c9cbf2c3340"
      },
      "source": [
        "print(L[4])  # We will use the print function, because it makes our printing intentions clear."
      ],
      "execution_count": null,
      "outputs": [
        {
          "output_type": "stream",
          "name": "stdout",
          "text": [
            "4\n"
          ]
        }
      ]
    },
    {
      "cell_type": "code",
      "metadata": {
        "id": "Z-ZCNLx4o1Nn",
        "colab": {
          "base_uri": "https://localhost:8080/"
        },
        "outputId": "aebed583-17a0-48e2-edec-c1e6d1c63280"
      },
      "source": [
        "print(L[0])"
      ],
      "execution_count": null,
      "outputs": [
        {
          "output_type": "stream",
          "name": "stdout",
          "text": [
            "0\n"
          ]
        }
      ]
    },
    {
      "cell_type": "markdown",
      "metadata": {
        "id": "9Rd1gPF9o1Nn"
      },
      "source": [
        "The location of an entry is called its **index**.  So *at* the index 3, the list `L` stores the entry `three`.  Note that the same entry can occur in many places in a list.  E.g. `[7,7,7]` is a list with 7 at the zeroth, first, and second index."
      ]
    },
    {
      "cell_type": "code",
      "metadata": {
        "id": "SHWaHBmAo1Nn",
        "colab": {
          "base_uri": "https://localhost:8080/"
        },
        "outputId": "132e79c5-e4a9-4668-8fd2-2c7f4f0df861"
      },
      "source": [
        "print(L[-1])\n",
        "print(L[-2])"
      ],
      "execution_count": null,
      "outputs": [
        {
          "output_type": "stream",
          "name": "stdout",
          "text": [
            "10\n",
            "nine\n"
          ]
        }
      ]
    },
    {
      "cell_type": "markdown",
      "metadata": {
        "id": "N8U8KO9Do1Nn"
      },
      "source": [
        "The last bit of code demonstrates a cool Python trick.  The \"-1st\" entry in a list refers to the last entry. The \"-2nd entry\" refers to the second-to-last entry, and so on.  It gives a convenient way to access both sides of the list, even if you don't know how long it is.\n",
        "\n",
        "Of course, you can use Python to find out how long a list is."
      ]
    },
    {
      "cell_type": "code",
      "metadata": {
        "id": "U69qteuto1Nn",
        "colab": {
          "base_uri": "https://localhost:8080/"
        },
        "outputId": "e2b3e9a7-edd0-46e5-bf93-e6e7e0d7a043"
      },
      "source": [
        "len(L)"
      ],
      "execution_count": null,
      "outputs": [
        {
          "output_type": "execute_result",
          "data": {
            "text/plain": [
              "11"
            ]
          },
          "metadata": {},
          "execution_count": 57
        }
      ]
    },
    {
      "cell_type": "markdown",
      "metadata": {
        "id": "pVI66GEIo1No"
      },
      "source": [
        "You can also use Python to find the sum of a list of numbers."
      ]
    },
    {
      "cell_type": "code",
      "metadata": {
        "id": "XmBojrfto1No",
        "colab": {
          "base_uri": "https://localhost:8080/"
        },
        "outputId": "b7c68a81-bd64-44f3-e5eb-e048403917c8"
      },
      "source": [
        "sum([1,2,3,4,5])"
      ],
      "execution_count": null,
      "outputs": [
        {
          "output_type": "execute_result",
          "data": {
            "text/plain": [
              "15"
            ]
          },
          "metadata": {},
          "execution_count": 58
        }
      ]
    },
    {
      "cell_type": "code",
      "metadata": {
        "id": "7vO8uSwho1No",
        "colab": {
          "base_uri": "https://localhost:8080/"
        },
        "outputId": "1b2a46c7-1344-4cfb-8354-c68a939153ff"
      },
      "source": [
        "sum(range(100))  # Be careful.  This is the sum of which numbers?  # The sum function can take lists or ranges."
      ],
      "execution_count": null,
      "outputs": [
        {
          "output_type": "execute_result",
          "data": {
            "text/plain": [
              "4950"
            ]
          },
          "metadata": {},
          "execution_count": 59
        }
      ]
    },
    {
      "cell_type": "markdown",
      "metadata": {
        "id": "Gk4qkCSEo1No"
      },
      "source": [
        "### List slicing\n",
        "\n",
        "**Slicing** lists allows us to create new lists (or ranges) from old lists (or ranges), by chopping off one end or the other, or even slicing out entries at a fixed interval.  The simplest syntax has the form `L[a:b]` where `a` denotes the index of the starting entry and index of the final entry is one less than `b`.  It is best to try a few examples to get a feel for it.\n",
        "\n",
        "Slicing a list with a command like `L[a:b]` doesn't actually *change* the original list `L`.  It just extracts some terms from the list and outputs those terms.  Soon enough, we will change the list `L` using a list assignment."
      ]
    },
    {
      "cell_type": "code",
      "metadata": {
        "id": "8QNDpqJ9o1No",
        "colab": {
          "base_uri": "https://localhost:8080/"
        },
        "outputId": "204df224-d984-496e-af8d-2c53648edeae"
      },
      "source": [
        "L[0:5]"
      ],
      "execution_count": null,
      "outputs": [
        {
          "output_type": "execute_result",
          "data": {
            "text/plain": [
              "[0, 'one', 2, 'three', 4]"
            ]
          },
          "metadata": {},
          "execution_count": 60
        }
      ]
    },
    {
      "cell_type": "code",
      "metadata": {
        "id": "gzEnfHqvo1No",
        "colab": {
          "base_uri": "https://localhost:8080/"
        },
        "outputId": "e862c37e-269c-4653-9726-3e1dbf20803e"
      },
      "source": [
        "L[5:11]  # Notice that L[0:5] and L[5:11] together recover the whole list."
      ],
      "execution_count": null,
      "outputs": [
        {
          "output_type": "execute_result",
          "data": {
            "text/plain": [
              "['five', 6, 'seven', 8, 'nine', 10]"
            ]
          },
          "metadata": {},
          "execution_count": 61
        }
      ]
    },
    {
      "cell_type": "code",
      "metadata": {
        "id": "MOzb4reTo1No",
        "colab": {
          "base_uri": "https://localhost:8080/"
        },
        "outputId": "eae00ebc-63cb-41bb-f811-129a956ada38"
      },
      "source": [
        "L[3:7]"
      ],
      "execution_count": null,
      "outputs": [
        {
          "output_type": "execute_result",
          "data": {
            "text/plain": [
              "['three', 4, 'five', 6]"
            ]
          },
          "metadata": {},
          "execution_count": 62
        }
      ]
    },
    {
      "cell_type": "markdown",
      "metadata": {
        "id": "Z1VPqRtoo1No"
      },
      "source": [
        "This continues the strange (for beginners) Python convention of starting at the first number and ending just before the last number.  Compare to `range(3,7)`, for example.  "
      ]
    },
    {
      "cell_type": "markdown",
      "metadata": {
        "id": "MrnvG511o1No"
      },
      "source": [
        "The command `L[0:5]` can be replaced by `L[:5]` to abbreviate.  The empty opening index tells Python to start at the beginning.  Similarly, the command `L[5:11]` can be replaced by `L[5:]`.  The empty closing index tells Python to end the slice and the end.  This is helpful if one doesn't know where the list ends."
      ]
    },
    {
      "cell_type": "code",
      "metadata": {
        "id": "-jgLcoWWo1Nq",
        "colab": {
          "base_uri": "https://localhost:8080/"
        },
        "outputId": "0d241e6f-99c9-4e1d-ff6e-efceb457c3bb"
      },
      "source": [
        "L[:5]"
      ],
      "execution_count": null,
      "outputs": [
        {
          "output_type": "execute_result",
          "data": {
            "text/plain": [
              "[0, 'one', 2, 'three', 4]"
            ]
          },
          "metadata": {},
          "execution_count": 63
        }
      ]
    },
    {
      "cell_type": "code",
      "metadata": {
        "id": "RC8VS_66o1Nq",
        "colab": {
          "base_uri": "https://localhost:8080/"
        },
        "outputId": "3eeecca9-6fb5-4f47-9dc1-adacd592f61c"
      },
      "source": [
        "L[3:]"
      ],
      "execution_count": null,
      "outputs": [
        {
          "output_type": "execute_result",
          "data": {
            "text/plain": [
              "['three', 4, 'five', 6, 'seven', 8, 'nine', 10]"
            ]
          },
          "metadata": {},
          "execution_count": 64
        }
      ]
    },
    {
      "cell_type": "markdown",
      "metadata": {
        "id": "NNnM3hfOo1Nq"
      },
      "source": [
        "Just like the `range` command, list slicing can take an optional third argument to give a step size.  To understand this, try the command below."
      ]
    },
    {
      "cell_type": "code",
      "metadata": {
        "id": "zoxAvxDdo1Nq",
        "colab": {
          "base_uri": "https://localhost:8080/"
        },
        "outputId": "796d29fb-51b4-4f06-bbd2-9598fccb4cf0"
      },
      "source": [
        "L[2:10]"
      ],
      "execution_count": null,
      "outputs": [
        {
          "output_type": "execute_result",
          "data": {
            "text/plain": [
              "[2, 'three', 4, 'five', 6, 'seven', 8, 'nine']"
            ]
          },
          "metadata": {},
          "execution_count": 65
        }
      ]
    },
    {
      "cell_type": "code",
      "metadata": {
        "id": "81Afdz7do1Nq",
        "colab": {
          "base_uri": "https://localhost:8080/"
        },
        "outputId": "0b1572ef-be16-4fd5-a43d-75f40b596f15"
      },
      "source": [
        "L[2:10:3]"
      ],
      "execution_count": null,
      "outputs": [
        {
          "output_type": "execute_result",
          "data": {
            "text/plain": [
              "[2, 'five', 8]"
            ]
          },
          "metadata": {},
          "execution_count": 66
        }
      ]
    },
    {
      "cell_type": "markdown",
      "metadata": {
        "id": "Ge3CcbYbo1Nq"
      },
      "source": [
        "If, in this three-argument syntax, the first or second argument is absent, then the slice starts at the beginning of the list or ends at the end of the list accordingly."
      ]
    },
    {
      "cell_type": "code",
      "metadata": {
        "id": "qpComE9ao1Nq",
        "colab": {
          "base_uri": "https://localhost:8080/"
        },
        "outputId": "7b46ddb9-b0d6-48bf-fec2-35177e380724"
      },
      "source": [
        "L  # Just a reminder.  We haven't modified the original list!"
      ],
      "execution_count": null,
      "outputs": [
        {
          "output_type": "execute_result",
          "data": {
            "text/plain": [
              "[0, 'one', 2, 'three', 4, 'five', 6, 'seven', 8, 'nine', 10]"
            ]
          },
          "metadata": {},
          "execution_count": 67
        }
      ]
    },
    {
      "cell_type": "code",
      "metadata": {
        "id": "4tDS36jCo1Nr",
        "colab": {
          "base_uri": "https://localhost:8080/"
        },
        "outputId": "fba14aaf-e29e-4f36-fe54-1494076d7e52"
      },
      "source": [
        "L[:9:3]  # Start at zero, go up to (but not including) 9, by steps of 3."
      ],
      "execution_count": null,
      "outputs": [
        {
          "output_type": "execute_result",
          "data": {
            "text/plain": [
              "[0, 'three', 6]"
            ]
          },
          "metadata": {},
          "execution_count": 68
        }
      ]
    },
    {
      "cell_type": "code",
      "metadata": {
        "id": "MFr4nObSo1Nr",
        "colab": {
          "base_uri": "https://localhost:8080/"
        },
        "outputId": "be130481-a9e4-4e19-ed19-9cfd7a1b9acb"
      },
      "source": [
        "L[2: :3] # Start at two, go up through the end of the list, by steps of 3."
      ],
      "execution_count": null,
      "outputs": [
        {
          "output_type": "execute_result",
          "data": {
            "text/plain": [
              "[2, 'five', 8]"
            ]
          },
          "metadata": {},
          "execution_count": 69
        }
      ]
    },
    {
      "cell_type": "code",
      "metadata": {
        "id": "X-EpKfF4o1Nr",
        "colab": {
          "base_uri": "https://localhost:8080/"
        },
        "outputId": "be3f414d-8948-47c0-c46f-56dd31c81471"
      },
      "source": [
        "L[::3]  # Start at zero, go up through the end of the list, by steps of 3."
      ],
      "execution_count": null,
      "outputs": [
        {
          "output_type": "execute_result",
          "data": {
            "text/plain": [
              "[0, 'three', 6, 'nine']"
            ]
          },
          "metadata": {},
          "execution_count": 70
        }
      ]
    },
    {
      "cell_type": "markdown",
      "metadata": {
        "id": "2dTiwVYho1Nr"
      },
      "source": [
        "### Changing list slices"
      ]
    },
    {
      "cell_type": "markdown",
      "metadata": {
        "id": "4y5zku1Mo1Nr"
      },
      "source": [
        "Not only can we extract and study terms or slices of a list, we can change them by assignment.  The simplest case would be changing a single term of a list."
      ]
    },
    {
      "cell_type": "code",
      "metadata": {
        "id": "OfPbYfsPo1Nr",
        "colab": {
          "base_uri": "https://localhost:8080/"
        },
        "outputId": "710692e4-b568-4bb1-e19f-eb6584aefa35"
      },
      "source": [
        "print(L) # Start with the list L."
      ],
      "execution_count": null,
      "outputs": [
        {
          "output_type": "stream",
          "name": "stdout",
          "text": [
            "[0, 'one', 2, 'three', 4, 'five', 6, 'seven', 8, 'nine', 10]\n"
          ]
        }
      ]
    },
    {
      "cell_type": "code",
      "metadata": {
        "id": "UIvNYPDDo1Nr"
      },
      "source": [
        "L[5] = 'Bacon!'"
      ],
      "execution_count": null,
      "outputs": []
    },
    {
      "cell_type": "code",
      "metadata": {
        "id": "RLd45i_No1Nr",
        "colab": {
          "base_uri": "https://localhost:8080/"
        },
        "outputId": "9bb491c0-5cb2-4502-aa3d-abb855b50218"
      },
      "source": [
        "print(L)  # What do you think L is now?"
      ],
      "execution_count": null,
      "outputs": [
        {
          "output_type": "stream",
          "name": "stdout",
          "text": [
            "[0, 'one', 2, 'three', 4, 'Bacon!', 6, 'seven', 8, 'nine', 10]\n"
          ]
        }
      ]
    },
    {
      "cell_type": "code",
      "metadata": {
        "id": "B6G0Uga9o1Nr",
        "colab": {
          "base_uri": "https://localhost:8080/"
        },
        "outputId": "020179bd-6102-4cd8-af15-a6c8a705b885"
      },
      "source": [
        "print(L[2::3]) # What do you think this will do?"
      ],
      "execution_count": null,
      "outputs": [
        {
          "output_type": "stream",
          "name": "stdout",
          "text": [
            "[2, 'Bacon!', 8]\n"
          ]
        }
      ]
    },
    {
      "cell_type": "markdown",
      "metadata": {
        "id": "uGennJ2qo1Nr"
      },
      "source": [
        "We can change an entire slice of a list with a single assignment.  Let's change the first two terms of `L` in one line."
      ]
    },
    {
      "cell_type": "code",
      "metadata": {
        "id": "y2qRmtGpo1Nr"
      },
      "source": [
        "L[:2] = ['Pancakes', 'Ham']  # What was L[:2] before?"
      ],
      "execution_count": null,
      "outputs": []
    },
    {
      "cell_type": "code",
      "metadata": {
        "id": "ovOM7CW5o1Ns",
        "colab": {
          "base_uri": "https://localhost:8080/"
        },
        "outputId": "4f5d7b9c-2f99-4cbd-a0d4-ca7c439de0e6"
      },
      "source": [
        "print(L) # Oh... what have we done!"
      ],
      "execution_count": null,
      "outputs": [
        {
          "output_type": "stream",
          "name": "stdout",
          "text": [
            "['Pancakes', 'Ham', 2, 'three', 4, 'Bacon!', 6, 'seven', 8, 'nine', 10]\n"
          ]
        }
      ]
    },
    {
      "cell_type": "code",
      "metadata": {
        "id": "xaVOdSGdo1Ns",
        "colab": {
          "base_uri": "https://localhost:8080/",
          "height": 35
        },
        "outputId": "44d79291-b061-401f-99ff-e59a26eba316"
      },
      "source": [
        "L[0]"
      ],
      "execution_count": null,
      "outputs": [
        {
          "output_type": "execute_result",
          "data": {
            "text/plain": [
              "'Pancakes'"
            ],
            "application/vnd.google.colaboratory.intrinsic+json": {
              "type": "string"
            }
          },
          "metadata": {},
          "execution_count": 77
        }
      ]
    },
    {
      "cell_type": "code",
      "metadata": {
        "id": "7VzDxYkvo1Ns",
        "colab": {
          "base_uri": "https://localhost:8080/",
          "height": 35
        },
        "outputId": "1e8ac4a5-ccc8-459f-91f1-bcf4e9ea6c27"
      },
      "source": [
        "L[1]"
      ],
      "execution_count": null,
      "outputs": [
        {
          "output_type": "execute_result",
          "data": {
            "text/plain": [
              "'Ham'"
            ],
            "application/vnd.google.colaboratory.intrinsic+json": {
              "type": "string"
            }
          },
          "metadata": {},
          "execution_count": 78
        }
      ]
    },
    {
      "cell_type": "code",
      "metadata": {
        "id": "XEExh5vko1Ns",
        "colab": {
          "base_uri": "https://localhost:8080/"
        },
        "outputId": "520841ad-fafa-4201-fd16-f2fb4b26b373"
      },
      "source": [
        "L[2]"
      ],
      "execution_count": null,
      "outputs": [
        {
          "output_type": "execute_result",
          "data": {
            "text/plain": [
              "2"
            ]
          },
          "metadata": {},
          "execution_count": 79
        }
      ]
    },
    {
      "cell_type": "markdown",
      "metadata": {
        "id": "G5jugoLbo1Ns"
      },
      "source": [
        "We can change a slice of a list with a single assignment, even when that slice does not consist of consecutive terms.  Try to predict what the following commands will do."
      ]
    },
    {
      "cell_type": "code",
      "metadata": {
        "id": "U9HQud-4o1Ns",
        "colab": {
          "base_uri": "https://localhost:8080/"
        },
        "outputId": "86e113d2-aa88-4f04-aac2-069d9f9e1e08"
      },
      "source": [
        "print(L)  # Let's see what the list looks like before."
      ],
      "execution_count": null,
      "outputs": [
        {
          "output_type": "stream",
          "name": "stdout",
          "text": [
            "['Pancakes', 'Ham', 2, 'three', 4, 'Bacon!', 6, 'seven', 8, 'nine', 10]\n"
          ]
        }
      ]
    },
    {
      "cell_type": "code",
      "metadata": {
        "id": "WaeNsMU8o1Ns"
      },
      "source": [
        "L[::2] = ['A','B','C','D','E','F']  # What was L[::2] before this assignment? "
      ],
      "execution_count": null,
      "outputs": []
    },
    {
      "cell_type": "code",
      "metadata": {
        "id": "e4DFQ2ZBo1Ns",
        "colab": {
          "base_uri": "https://localhost:8080/"
        },
        "outputId": "a3261421-341e-4e21-999b-d2605ac1e10c"
      },
      "source": [
        "print(L)  # What do you predict?"
      ],
      "execution_count": null,
      "outputs": [
        {
          "output_type": "stream",
          "name": "stdout",
          "text": [
            "['A', 'Ham', 'B', 'three', 'C', 'Bacon!', 'D', 'seven', 'E', 'nine', 'F']\n"
          ]
        }
      ]
    },
    {
      "cell_type": "markdown",
      "metadata": {
        "id": "g7PBhl-1o1Ns"
      },
      "source": [
        "## List methods"
      ]
    },
    {
      "cell_type": "markdown",
      "metadata": {
        "id": "E4_oZBZYo1Ns"
      },
      "source": [
        "A method is a function that is attached to an object.  We have already used one method:  the `format` method that is attached to all strings.  You might have seen the `replace` method for strings too.  Note that single-quotes `'Hello'` or double-quotes `\"Hello\"` can be used for strings."
      ]
    },
    {
      "cell_type": "code",
      "metadata": {
        "id": "A9ZJsXNFo1Ns",
        "colab": {
          "base_uri": "https://localhost:8080/",
          "height": 35
        },
        "outputId": "e1eb41f8-0a39-49fc-f6f3-48d82716effa"
      },
      "source": [
        "\"Hello {}!\".format('programming student')"
      ],
      "execution_count": null,
      "outputs": [
        {
          "output_type": "execute_result",
          "data": {
            "text/plain": [
              "'Hello programming student!'"
            ],
            "application/vnd.google.colaboratory.intrinsic+json": {
              "type": "string"
            }
          },
          "metadata": {},
          "execution_count": 83
        }
      ]
    },
    {
      "cell_type": "code",
      "metadata": {
        "id": "rWpWVH7eo1Nt",
        "colab": {
          "base_uri": "https://localhost:8080/",
          "height": 35
        },
        "outputId": "bc583b10-53f6-4987-a705-e8c239c9dc58"
      },
      "source": [
        "\"Programming is fun!\".replace('fun','lit')"
      ],
      "execution_count": null,
      "outputs": [
        {
          "output_type": "execute_result",
          "data": {
            "text/plain": [
              "'Programming is lit!'"
            ],
            "application/vnd.google.colaboratory.intrinsic+json": {
              "type": "string"
            }
          },
          "metadata": {},
          "execution_count": 84
        }
      ]
    },
    {
      "cell_type": "markdown",
      "metadata": {
        "id": "o_HBkyp_o1Nt"
      },
      "source": [
        "List methods are functions attached to lists.  Some useful methods include `append` and `sort`.  A fuller listing can be found at [the official documentation](https://docs.python.org/3/tutorial/datastructures.html)."
      ]
    },
    {
      "cell_type": "code",
      "metadata": {
        "id": "_KkgeG-yo1Nt",
        "colab": {
          "base_uri": "https://localhost:8080/"
        },
        "outputId": "3677c3bc-0660-4573-f47e-c664b6544cf5"
      },
      "source": [
        "L = [1,2,3]\n",
        "L.append(4)\n",
        "print(L)"
      ],
      "execution_count": null,
      "outputs": [
        {
          "output_type": "stream",
          "name": "stdout",
          "text": [
            "[1, 2, 3, 4]\n"
          ]
        }
      ]
    },
    {
      "cell_type": "markdown",
      "metadata": {
        "id": "VjkSU8Eyo1Nt"
      },
      "source": [
        "The `append` method can be used to add new items to the end of a list.  But be careful if you want to add multiple items!"
      ]
    },
    {
      "cell_type": "code",
      "metadata": {
        "id": "aS1Nuu84o1Nt",
        "colab": {
          "base_uri": "https://localhost:8080/"
        },
        "outputId": "9b7c9d93-e09f-454a-f177-80a8a5f8330c"
      },
      "source": [
        "L.append([5,6])\n",
        "print(L)"
      ],
      "execution_count": null,
      "outputs": [
        {
          "output_type": "stream",
          "name": "stdout",
          "text": [
            "[1, 2, 3, 4, [5, 6]]\n"
          ]
        }
      ]
    },
    {
      "cell_type": "markdown",
      "metadata": {
        "id": "THb1IcA6o1Nt"
      },
      "source": [
        "Behind the scenes, methods are functions which have a special input parameter called `self`.  So when you use a command like `L.append(4)`, you are effectively running `append(L, 4)`.  The `self` parameter is the object the method is attached to.\n",
        "\n",
        "Like all functions, methods have outputs too.  But what can be confusing is that methods can *modify* `self` and can sometimes *return* `None`.  "
      ]
    },
    {
      "cell_type": "code",
      "metadata": {
        "id": "TdOwNbHvo1Nt",
        "colab": {
          "base_uri": "https://localhost:8080/"
        },
        "outputId": "1cf5b14d-0747-4b41-825f-8a282f1634c8"
      },
      "source": [
        "print([1,2,3].append(4))\n",
        "print(\"123\".replace(\"3\",\"H\"))"
      ],
      "execution_count": null,
      "outputs": [
        {
          "output_type": "stream",
          "name": "stdout",
          "text": [
            "None\n",
            "12H\n"
          ]
        }
      ]
    },
    {
      "cell_type": "markdown",
      "metadata": {
        "id": "CNutNo0ro1Nt"
      },
      "source": [
        "This is very confusing at first!  The list `append` method *does* change `self` by appending something to `self`.  But as a function, it returns `None`.  \n",
        "\n",
        "On the other hand, the string `replace` method *does not* change `self` and instead *returns* the modified string.\n",
        "\n",
        "This will make more sense after we study *mutable* and *immutable* types.  Lists are mutable (and thus are often changed by their methods).  Strings are immutable, and so changes are effected by producing new strings.  Another example of a string method is `sort()`.  The only parameter of `sort` is `self`, and so nothing needs to go between the paraentheses."
      ]
    },
    {
      "cell_type": "code",
      "metadata": {
        "id": "iOJkQ3cIo1Nt",
        "colab": {
          "base_uri": "https://localhost:8080/"
        },
        "outputId": "6916cd4b-1e44-419e-c93c-e1bbf1191fdf"
      },
      "source": [
        "L = [4,2,1]  # Make a list.\n",
        "L.sort()  # Sort the list.  This *changes* L and returns None.\n",
        "print(L)  # Let's see what L is now."
      ],
      "execution_count": null,
      "outputs": [
        {
          "output_type": "stream",
          "name": "stdout",
          "text": [
            "[1, 2, 4]\n"
          ]
        }
      ]
    },
    {
      "cell_type": "code",
      "metadata": {
        "id": "ZDaPzUUjo1Nt",
        "colab": {
          "base_uri": "https://localhost:8080/"
        },
        "outputId": "20021b40-e2f9-40ab-f0ff-5b55e7565a74"
      },
      "source": [
        "L = ['Ukelele', 'Apple', 'Dog', 'Cat' ]\n",
        "L.sort()\n",
        "print(L)"
      ],
      "execution_count": null,
      "outputs": [
        {
          "output_type": "stream",
          "name": "stdout",
          "text": [
            "['Apple', 'Cat', 'Dog', 'Ukelele']\n"
          ]
        }
      ]
    },
    {
      "cell_type": "markdown",
      "metadata": {
        "id": "2ibPAiCCo1Nu"
      },
      "source": [
        "Sorting numbers is possible, because the Python operator `<` is defined for numbers.  Sorting strings is possible, because the Python operator `<` is interpreted alphabetically among strings.  If you mix types, Python might not know how to behave... you'll get a TypeError."
      ]
    },
    {
      "cell_type": "code",
      "metadata": {
        "id": "EmIGZqSQo1Nu",
        "colab": {
          "base_uri": "https://localhost:8080/",
          "height": 204
        },
        "outputId": "24ef0051-d4f7-446a-b675-86752f70dfa4"
      },
      "source": [
        "L = [1,'Apple', 3.14]\n",
        "L.sort()\n",
        "print(L)"
      ],
      "execution_count": null,
      "outputs": [
        {
          "output_type": "error",
          "ename": "TypeError",
          "evalue": "ignored",
          "traceback": [
            "\u001b[0;31m---------------------------------------------------------------------------\u001b[0m",
            "\u001b[0;31mTypeError\u001b[0m                                 Traceback (most recent call last)",
            "\u001b[0;32m<ipython-input-34-e3d2589f72dc>\u001b[0m in \u001b[0;36m<module>\u001b[0;34m\u001b[0m\n\u001b[1;32m      1\u001b[0m \u001b[0mL\u001b[0m \u001b[0;34m=\u001b[0m \u001b[0;34m[\u001b[0m\u001b[0;36m1\u001b[0m\u001b[0;34m,\u001b[0m\u001b[0;34m'Apple'\u001b[0m\u001b[0;34m,\u001b[0m \u001b[0;36m3.14\u001b[0m\u001b[0;34m]\u001b[0m\u001b[0;34m\u001b[0m\u001b[0;34m\u001b[0m\u001b[0m\n\u001b[0;32m----> 2\u001b[0;31m \u001b[0mL\u001b[0m\u001b[0;34m.\u001b[0m\u001b[0msort\u001b[0m\u001b[0;34m(\u001b[0m\u001b[0;34m)\u001b[0m\u001b[0;34m\u001b[0m\u001b[0;34m\u001b[0m\u001b[0m\n\u001b[0m\u001b[1;32m      3\u001b[0m \u001b[0mprint\u001b[0m\u001b[0;34m(\u001b[0m\u001b[0mL\u001b[0m\u001b[0;34m)\u001b[0m\u001b[0;34m\u001b[0m\u001b[0;34m\u001b[0m\u001b[0m\n",
            "\u001b[0;31mTypeError\u001b[0m: '<' not supported between instances of 'str' and 'int'"
          ]
        }
      ]
    },
    {
      "cell_type": "markdown",
      "metadata": {
        "id": "RMN4XjXHo1Nu"
      },
      "source": [
        "### Exercises\n",
        "\n",
        "1.  Create a list L with L = [1,2,3,...,100] (all the numbers from 1 to 100).  What is L[50]?\n",
        "\n",
        "2.  Take the same list L, and extract a slice of the form [5,10,15,...,95] with a command of the form L[a:b:c].\n",
        "\n",
        "3.  Take the same list L, and change all the even numbers to zeros, so that L looks like [1,0,3,0,5,0,...,99,0].  Hint:  You might wish to use the list [0]*50.\n",
        "\n",
        "4.  Try the command `L[-1::-1]` on a list.  What does it do?  Can you guess before executing it?  Can you understand why?  In fact, strings are indexed like lists.  Try setting `L = 'Hello'` and the previous command.\n",
        "\n",
        "5.  Create the list [1,100,3,98,5,96,...,99,2], where the odd terms are in order and the even terms are in reverse order.  There are multiple methods!\n",
        "\n",
        "6.  Use the append method with a loop to create a list of perfect squares, [0,1,4,9,16,25,...,10000].\n",
        "\n",
        "7.  Create a list of 52 \"cards\" to resemble a standard card deck.  The suits can be denoted C,S,D,H for clubs, spades, diamonds, and hearts.  The numbers can be denoted 1-13 (with Ace = 1, Jack = 11, Queen = 12, King = 13).  So \"9H\" would be the 9 of hearts, and 12S the queen of spades.  Your list L should contain every card.  \n",
        "\n",
        "8.  Challenge:  write a function which performs a \"perfect riffle shuffle\" on a list of cards.  This shuffle should have the effect of dividing the deck into two equal pieces, and then precisely interlacing the two pieces to form a new list.  E.g., an input list of `[1,2,3,4,5,6]` should be broken into `[1,2,3]` and `[4,5,6]` and then interlaced as `[1,4,2,5,3,6]`."
      ]
    },
    {
      "cell_type": "code",
      "metadata": {
        "id": "zeKjo8JPUjjY",
        "colab": {
          "base_uri": "https://localhost:8080/"
        },
        "outputId": "eaf3e4b0-3dd7-4143-ea36-6b1f456dea49"
      },
      "source": [
        "#1\n",
        "L=list(range(101))\n",
        "L[50]\n",
        "\n",
        "#2\n",
        "L[: :5]\n",
        "\n",
        "#3\n",
        "L[: :2]=[0]*51\n",
        "L\n",
        "\n",
        "#4\n",
        "L='Hello'\n",
        "L[-1: :-1]\n",
        "#My assumption was correct! This makes the order of the list in reverse. This can be very\n",
        "#useful for getting decreasing sets of numbers! It can also find palendromes of words!\n",
        "\n",
        "#5\n",
        "L=list(range(102))\n",
        "M=list(range(0,101,2))\n",
        "M[-1: :-1]\n",
        "L[1: :2]=M[-1: :-1]\n",
        "L[: :2]=list(range(1,102,2))\n",
        "len(L)\n",
        "L[:100]\n"
      ],
      "execution_count": null,
      "outputs": [
        {
          "output_type": "execute_result",
          "data": {
            "text/plain": [
              "[1,\n",
              " 100,\n",
              " 3,\n",
              " 98,\n",
              " 5,\n",
              " 96,\n",
              " 7,\n",
              " 94,\n",
              " 9,\n",
              " 92,\n",
              " 11,\n",
              " 90,\n",
              " 13,\n",
              " 88,\n",
              " 15,\n",
              " 86,\n",
              " 17,\n",
              " 84,\n",
              " 19,\n",
              " 82,\n",
              " 21,\n",
              " 80,\n",
              " 23,\n",
              " 78,\n",
              " 25,\n",
              " 76,\n",
              " 27,\n",
              " 74,\n",
              " 29,\n",
              " 72,\n",
              " 31,\n",
              " 70,\n",
              " 33,\n",
              " 68,\n",
              " 35,\n",
              " 66,\n",
              " 37,\n",
              " 64,\n",
              " 39,\n",
              " 62,\n",
              " 41,\n",
              " 60,\n",
              " 43,\n",
              " 58,\n",
              " 45,\n",
              " 56,\n",
              " 47,\n",
              " 54,\n",
              " 49,\n",
              " 52,\n",
              " 51,\n",
              " 50,\n",
              " 53,\n",
              " 48,\n",
              " 55,\n",
              " 46,\n",
              " 57,\n",
              " 44,\n",
              " 59,\n",
              " 42,\n",
              " 61,\n",
              " 40,\n",
              " 63,\n",
              " 38,\n",
              " 65,\n",
              " 36,\n",
              " 67,\n",
              " 34,\n",
              " 69,\n",
              " 32,\n",
              " 71,\n",
              " 30,\n",
              " 73,\n",
              " 28,\n",
              " 75,\n",
              " 26,\n",
              " 77,\n",
              " 24,\n",
              " 79,\n",
              " 22,\n",
              " 81,\n",
              " 20,\n",
              " 83,\n",
              " 18,\n",
              " 85,\n",
              " 16,\n",
              " 87,\n",
              " 14,\n",
              " 89,\n",
              " 12,\n",
              " 91,\n",
              " 10,\n",
              " 93,\n",
              " 8,\n",
              " 95,\n",
              " 6,\n",
              " 97,\n",
              " 4,\n",
              " 99,\n",
              " 2]"
            ]
          },
          "metadata": {},
          "execution_count": 162
        }
      ]
    },
    {
      "cell_type": "code",
      "source": [
        "#6\n",
        "def is_square(n):\n",
        "  j=1\n",
        "  L=[]\n",
        "  while j<n+1:\n",
        "    L.append(j*j)\n",
        "    j=j+1\n",
        "  return L\n",
        "is_square(100)\n",
        "\n"
      ],
      "metadata": {
        "id": "nwrkTHsBtxdJ"
      },
      "execution_count": null,
      "outputs": []
    },
    {
      "cell_type": "code",
      "source": [
        "#7\n",
        "j=1\n",
        "L=[]\n",
        "for x in range(1,14):\n",
        "  strj=str(j)\n",
        "  suit=\"0D\".replace(\"0\",strj)\n",
        "  L.append(suit)\n",
        "  j=j+1\n",
        "j=1\n",
        "for x in range(1,14):\n",
        "  strj=str(j)\n",
        "  suit=\"0H\".replace(\"0\",strj)\n",
        "  L.append(suit)\n",
        "  j=j+1\n",
        "j=1\n",
        "for x in range(1,14):\n",
        "  strj=str(j)\n",
        "  suit=\"0S\".replace(\"0\",strj)\n",
        "  L.append(suit)\n",
        "  j=j+1\n",
        "j=1\n",
        "for x in range(1,14):\n",
        "  strj=str(j)\n",
        "  suit=\"0C\".replace(\"0\",strj)\n",
        "  L.append(suit)\n",
        "  j=j+1\n",
        "print(L)"
      ],
      "metadata": {
        "colab": {
          "base_uri": "https://localhost:8080/"
        },
        "id": "cDk-Azh9J2WM",
        "outputId": "f86572a0-7d98-4546-a91c-409033f4c0e3"
      },
      "execution_count": null,
      "outputs": [
        {
          "output_type": "stream",
          "name": "stdout",
          "text": [
            "['1D', '2D', '3D', '4D', '5D', '6D', '7D', '8D', '9D', '10D', '11D', '12D', '13D', '1H', '2H', '3H', '4H', '5H', '6H', '7H', '8H', '9H', '10H', '11H', '12H', '13H', '1S', '2S', '3S', '4S', '5S', '6S', '7S', '8S', '9S', '10S', '11S', '12S', '13S', '1C', '2C', '3C', '4C', '5C', '6C', '7C', '8C', '9C', '10C', '11C', '12C', '13C']\n"
          ]
        }
      ]
    },
    {
      "cell_type": "code",
      "source": [
        "#8\n",
        "M=L[:26]\n",
        "N=L[26:]\n",
        "L[::2]=M\n",
        "L[1::2]=N\n",
        "print(L)"
      ],
      "metadata": {
        "colab": {
          "base_uri": "https://localhost:8080/"
        },
        "id": "--1nUdaeOOR-",
        "outputId": "04d76e30-25a0-4bb7-f84c-3901f15cca1b"
      },
      "execution_count": null,
      "outputs": [
        {
          "output_type": "stream",
          "name": "stdout",
          "text": [
            "['1D', '1S', '2D', '2S', '3D', '3S', '4D', '4S', '5D', '5S', '6D', '6S', '7D', '7S', '8D', '8S', '9D', '9S', '10D', '10S', '11D', '11S', '12D', '12S', '13D', '13S', '1H', '1C', '2H', '2C', '3H', '3C', '4H', '4C', '5H', '5C', '6H', '6C', '7H', '7C', '8H', '8C', '9H', '9C', '10H', '10C', '11H', '11C', '12H', '12C', '13H', '13C']\n"
          ]
        }
      ]
    },
    {
      "cell_type": "markdown",
      "metadata": {
        "id": "DIORkSZEo1Nu"
      },
      "source": [
        "## Sieve of Eratosthenes"
      ]
    },
    {
      "cell_type": "markdown",
      "metadata": {
        "id": "rTQgPGs2o1Nu"
      },
      "source": [
        "\\The **Sieve of Eratosthenes** (hereafter called \"the sieve\") is a very fast way of producing long lists of primes, without doing repeated primality checking.  The basic idea is to start with all of the natural numbers, and successively filter out, or [**sieve**](https://en.wikipedia.org/wiki/Sieve), the multiples of 2, then the multiples of 3, then the multiples of 5, etc., until only primes are left.  You can read more about the sieve, and experimental number theory, at [The Conversation](https://theconversation.com/why-prime-numbers-still-fascinate-mathematicians-2-300-years-later-92484)\n",
        "\n",
        "Using list slicing, we can carry out this sieving process efficiently.  And with a few more tricks we encounter here, we can carry out the Sieve **very** efficiently."
      ]
    },
    {
      "cell_type": "markdown",
      "metadata": {
        "id": "_jx0oxsuo1Nu"
      },
      "source": [
        "### The basic sieve\n",
        "\n",
        "The first approach we introduce is a bit naive, but is a good starting place.  We will begin with a list of numbers up to 100, and sieve out the appropriate multiples of 2,3,5,7."
      ]
    },
    {
      "cell_type": "code",
      "metadata": {
        "id": "xiF25G0Zo1Nu"
      },
      "source": [
        "primes = list(range(100)) # Let's start with the numbers 0...99."
      ],
      "execution_count": null,
      "outputs": []
    },
    {
      "cell_type": "markdown",
      "metadata": {
        "id": "XIDLjxG4o1Nu"
      },
      "source": [
        "Now, to \"filter\", i.e., to say that a number is *not* prime, let's just change the number to the value `None`.  "
      ]
    },
    {
      "cell_type": "code",
      "metadata": {
        "id": "5VK6hIBEo1Nu",
        "colab": {
          "base_uri": "https://localhost:8080/"
        },
        "outputId": "d5574e56-01ee-47fa-9683-65e3db7945ab"
      },
      "source": [
        "primes[0] = None # Zero is not prime.\n",
        "primes[1] = None # One is not prime.\n",
        "print(primes) # What have we done?"
      ],
      "execution_count": null,
      "outputs": [
        {
          "output_type": "stream",
          "name": "stdout",
          "text": [
            "[None, None, 2, 3, 4, 5, 6, 7, 8, 9, 10, 11, 12, 13, 14, 15, 16, 17, 18, 19, 20, 21, 22, 23, 24, 25, 26, 27, 28, 29, 30, 31, 32, 33, 34, 35, 36, 37, 38, 39, 40, 41, 42, 43, 44, 45, 46, 47, 48, 49, 50, 51, 52, 53, 54, 55, 56, 57, 58, 59, 60, 61, 62, 63, 64, 65, 66, 67, 68, 69, 70, 71, 72, 73, 74, 75, 76, 77, 78, 79, 80, 81, 82, 83, 84, 85, 86, 87, 88, 89, 90, 91, 92, 93, 94, 95, 96, 97, 98, 99]\n"
          ]
        }
      ]
    },
    {
      "cell_type": "markdown",
      "metadata": {
        "id": "f60YBXEpo1Nv"
      },
      "source": [
        "Now let's filter out the multiples of 2, starting at 4.  This is the slice `primes[4::2]`"
      ]
    },
    {
      "cell_type": "code",
      "metadata": {
        "id": "WIBb5mQ3o1Nv",
        "colab": {
          "base_uri": "https://localhost:8080/"
        },
        "outputId": "1d55d699-19ae-4af1-f3eb-79a8ecd40e16"
      },
      "source": [
        "primes[4::2] = [None] * len(primes[4::2])  # The right side is a list of Nones, of the necessary length.\n",
        "print(primes) # What have we done?"
      ],
      "execution_count": null,
      "outputs": [
        {
          "output_type": "stream",
          "name": "stdout",
          "text": [
            "[None, None, 2, 3, None, 5, None, 7, None, 9, None, 11, None, 13, None, 15, None, 17, None, 19, None, 21, None, 23, None, 25, None, 27, None, 29, None, 31, None, 33, None, 35, None, 37, None, 39, None, 41, None, 43, None, 45, None, 47, None, 49, None, 51, None, 53, None, 55, None, 57, None, 59, None, 61, None, 63, None, 65, None, 67, None, 69, None, 71, None, 73, None, 75, None, 77, None, 79, None, 81, None, 83, None, 85, None, 87, None, 89, None, 91, None, 93, None, 95, None, 97, None, 99]\n"
          ]
        }
      ]
    },
    {
      "cell_type": "markdown",
      "metadata": {
        "id": "gD0IZ3ffo1Nv"
      },
      "source": [
        "Now we filter out the multiples of 3, starting at 9."
      ]
    },
    {
      "cell_type": "code",
      "metadata": {
        "id": "nRDiN5ZYo1Nv",
        "colab": {
          "base_uri": "https://localhost:8080/"
        },
        "outputId": "38cd8486-815e-4834-9bf2-67f77c64ebed"
      },
      "source": [
        "primes[9::3] = [None] * len(primes[9::3])  # The right side is a list of Nones, of the necessary length.\n",
        "print(primes) # What have we done?"
      ],
      "execution_count": null,
      "outputs": [
        {
          "output_type": "stream",
          "name": "stdout",
          "text": [
            "[None, None, 2, 3, None, 5, None, 7, None, None, None, 11, None, 13, None, None, None, 17, None, 19, None, None, None, 23, None, 25, None, None, None, 29, None, 31, None, None, None, 35, None, 37, None, None, None, 41, None, 43, None, None, None, 47, None, 49, None, None, None, 53, None, 55, None, None, None, 59, None, 61, None, None, None, 65, None, 67, None, None, None, 71, None, 73, None, None, None, 77, None, 79, None, None, None, 83, None, 85, None, None, None, 89, None, 91, None, None, None, 95, None, 97, None, None]\n"
          ]
        }
      ]
    },
    {
      "cell_type": "markdown",
      "metadata": {
        "id": "OkeNZU2Uo1Nv"
      },
      "source": [
        "Next the multiples of 5, starting at 25 (the first multiple of 5 greater than 5 that's left!)"
      ]
    },
    {
      "cell_type": "code",
      "metadata": {
        "id": "Aocpditlo1Nv",
        "colab": {
          "base_uri": "https://localhost:8080/"
        },
        "outputId": "31a302f3-155d-4a6b-d819-56c7243d26f1"
      },
      "source": [
        "primes[25::5] = [None] * len(primes[25::5])  # The right side is a list of Nones, of the necessary length.\n",
        "print(primes) # What have we done?"
      ],
      "execution_count": null,
      "outputs": [
        {
          "output_type": "stream",
          "name": "stdout",
          "text": [
            "[None, None, 2, 3, None, 5, None, 7, None, None, None, 11, None, 13, None, None, None, 17, None, 19, None, None, None, 23, None, None, None, None, None, 29, None, 31, None, None, None, None, None, 37, None, None, None, 41, None, 43, None, None, None, 47, None, 49, None, None, None, 53, None, None, None, None, None, 59, None, 61, None, None, None, None, None, 67, None, None, None, 71, None, 73, None, None, None, 77, None, 79, None, None, None, 83, None, None, None, None, None, 89, None, 91, None, None, None, None, None, 97, None, None]\n"
          ]
        }
      ]
    },
    {
      "cell_type": "markdown",
      "metadata": {
        "id": "9DYckJ43o1Nv"
      },
      "source": [
        "Finally, the multiples of 7, starting at 49 (the first multiple of 7 greater than 7 that's left!)"
      ]
    },
    {
      "cell_type": "code",
      "metadata": {
        "id": "NMMhQYBqo1Nv",
        "colab": {
          "base_uri": "https://localhost:8080/"
        },
        "outputId": "12c7de82-7035-4a16-eb43-4881ba5e87a2"
      },
      "source": [
        "primes[49::7] = [None] * len(primes[49::7])  # The right side is a list of Nones, of the necessary length.\n",
        "print(primes) # What have we done?"
      ],
      "execution_count": null,
      "outputs": [
        {
          "output_type": "stream",
          "name": "stdout",
          "text": [
            "[None, None, 2, 3, None, 5, None, 7, None, None, None, 11, None, 13, None, None, None, 17, None, 19, None, None, None, 23, None, None, None, None, None, 29, None, 31, None, None, None, None, None, 37, None, None, None, 41, None, 43, None, None, None, 47, None, None, None, None, None, 53, None, None, None, None, None, 59, None, 61, None, None, None, None, None, 67, None, None, None, 71, None, 73, None, None, None, None, None, 79, None, None, None, 83, None, None, None, None, None, 89, None, None, None, None, None, None, None, 97, None, None]\n"
          ]
        }
      ]
    },
    {
      "cell_type": "markdown",
      "metadata": {
        "id": "6Dulthjho1Nv"
      },
      "source": [
        "What's left?  A lot of `None`s and the prime numbers up to 100.  We have successfully sieved out all the nonprime numbers in the list, using just four sieving steps (and setting 0 and 1 to `None` manually).  \n",
        "\n",
        "But there's a lot of room for improvement, from beginning to end!\n",
        "\n",
        "1.  The format of the end result is not so nice.\n",
        "2.  We had to sieve each step manually.  It would be much better to have a function `prime_list(n)` which would output a list of primes up to `n` without so much supervision.\n",
        "3.  The memory usage will be large, if we need to store all the numbers up to a large `n` at the beginning.\n",
        "\n",
        "We solve these problems in the following way.\n",
        "\n",
        "1.  We will use a list of **booleans** rather than a list of numbers.  The ending list will have a `True` value at prime indices and a `False` value at composite indices.  This reduces the memory usage and increases the speed.  \n",
        "2.  A `which` function (explained soon) will make the desired list of primes after everything else is done.\n",
        "3.  We will proceed through the sieving steps algorithmically rather than entering each step manually.\n",
        "\n",
        "Here is a somewhat efficient implementation of the Sieve in Python."
      ]
    },
    {
      "cell_type": "code",
      "metadata": {
        "id": "HfOTwel_o1Nv"
      },
      "source": [
        "from math import sqrt\n",
        "def isprime_list(n):\n",
        "    ''' \n",
        "    Return a list of length n+1\n",
        "    with Trues at prime indices and Falses at composite indices.\n",
        "    '''\n",
        "    flags = [True] * (n+1)  # A list [True, True, True,...] to start.\n",
        "    flags[0] = False  # Zero is not prime.  So its flag is set to False.\n",
        "    flags[1] = False  # One is not prime.  So its flag is set to False.\n",
        "    p = 2  # The first prime is 2.  And we start sieving by multiples of 2.\n",
        "    \n",
        "    while p <= sqrt(n):  # We only need to sieve by p is p <= sqrt(n).\n",
        "        if flags[p]:  # We sieve the multiples of p if flags[p]=True.\n",
        "            flags[p*p::p] = [False] * len(flags[p*p::p]) # Sieves out multiples of p, starting at p*p.\n",
        "        p = p + 1 # Try the next value of p.\n",
        "        \n",
        "    return flags"
      ],
      "execution_count": null,
      "outputs": []
    },
    {
      "cell_type": "code",
      "metadata": {
        "id": "eM2OGaymo1Nw",
        "colab": {
          "base_uri": "https://localhost:8080/"
        },
        "outputId": "2fdac522-9840-467e-cf77-9acdde69ab57"
      },
      "source": [
        "print(isprime_list(100))"
      ],
      "execution_count": null,
      "outputs": [
        {
          "output_type": "stream",
          "name": "stdout",
          "text": [
            "[False, False, True, True, False, True, False, True, False, False, False, True, False, True, False, False, False, True, False, True, False, False, False, True, False, False, False, False, False, True, False, True, False, False, False, False, False, True, False, False, False, True, False, True, False, False, False, True, False, False, False, False, False, True, False, False, False, False, False, True, False, True, False, False, False, False, False, True, False, False, False, True, False, True, False, False, False, False, False, True, False, False, False, True, False, False, False, False, False, True, False, False, False, False, False, False, False, True, False, False, False]\n"
          ]
        }
      ]
    },
    {
      "cell_type": "markdown",
      "metadata": {
        "id": "73FT-HVIo1Nw"
      },
      "source": [
        "If you look carefully at the list of booleans, you will notice a `True` value at the 2nd index, the 3rd index, the 5th index, the 7th index, etc..  The indices where the values are `True` are precisely the **prime** indices.  Since booleans take the smallest amount of memory of any data type (one **bit** of memory per boolean), your computer can carry out the `isprime_list(n)` function even when `n` is very large.\n",
        "\n",
        "To be more precise, there are 8 bits in a **byte**.  There are 1024 bytes (about 1000) in a kilobyte.  There are 1024 kilobytes in a megabyte.  There are 1024 megabytes in a gigabyte.  Therefore, a gigabyte of memory is enough to store about 8 billion bits.  That's enough to store the result of `isprime_list(n)` when `n` is about 8 billion.  Not bad!  And your computer probably has 4 or 8 or 12 or 16 gigabytes of memory to use.\n",
        "\n"
      ]
    },
    {
      "cell_type": "markdown",
      "metadata": {
        "id": "TtTBE8U0o1Nw"
      },
      "source": [
        "To transform the list of booleans into a list of prime numbers, we create a function called `where`.  This function uses another Python technique called **list comprehension**.  We discuss this technique later in this lesson, so just use the `where` function as a tool for now, or [read about list comprehension](https://docs.python.org/2/tutorial/datastructures.html#list-comprehensions) if you're curious."
      ]
    },
    {
      "cell_type": "code",
      "metadata": {
        "id": "q_ZiUC2uo1Nw"
      },
      "source": [
        "def where(L):\n",
        "    '''\n",
        "    Take a list of booleans as input and\n",
        "    outputs the list of indices where True occurs.\n",
        "    '''\n",
        "    return [n for n in range(len(L)) if L[n]]\n",
        "    "
      ],
      "execution_count": null,
      "outputs": []
    },
    {
      "cell_type": "markdown",
      "metadata": {
        "id": "_rkxdrhmo1Nw"
      },
      "source": [
        "Combined with the `isprime_list` function, we can produce long lists of primes."
      ]
    },
    {
      "cell_type": "code",
      "metadata": {
        "scrolled": true,
        "id": "MkA2LdBlo1Nw",
        "colab": {
          "base_uri": "https://localhost:8080/"
        },
        "outputId": "147696c6-4dfb-49a3-d7c6-4f7334ff2be4"
      },
      "source": [
        "print(where(isprime_list(100)))"
      ],
      "execution_count": null,
      "outputs": [
        {
          "output_type": "stream",
          "name": "stdout",
          "text": [
            "[2, 3, 5, 7, 11, 13, 17, 19, 23, 29, 31, 37, 41, 43, 47, 53, 59, 61, 67, 71, 73, 79, 83, 89, 97]\n"
          ]
        }
      ]
    },
    {
      "cell_type": "markdown",
      "metadata": {
        "id": "gy3KRYbAo1Nw"
      },
      "source": [
        "Let's push it a bit further.  How many primes are there between 1 and 1 million?  We can figure this out in three steps:\n",
        "\n",
        "1.  Create the isprime_list.\n",
        "2.  Use where to get the list of primes.\n",
        "3.  Find the length of the list of primes.\n",
        "\n",
        "But it's better to do it in two steps.\n",
        "\n",
        "1.  Create the isprime_list.\n",
        "2.  Sum the list!  (Note that `True` is 1, for the purpose of summation!)"
      ]
    },
    {
      "cell_type": "code",
      "metadata": {
        "id": "MpIGIxjro1Nw",
        "colab": {
          "base_uri": "https://localhost:8080/"
        },
        "outputId": "673e5c74-e63a-4275-9c22-04001fd97507"
      },
      "source": [
        "sum(isprime_list(1000000))  # The number of primes up to a million!"
      ],
      "execution_count": null,
      "outputs": [
        {
          "output_type": "execute_result",
          "data": {
            "text/plain": [
              "78498"
            ]
          },
          "metadata": {},
          "execution_count": 45
        }
      ]
    },
    {
      "cell_type": "code",
      "metadata": {
        "id": "uQx3_5suo1Nw",
        "colab": {
          "base_uri": "https://localhost:8080/"
        },
        "outputId": "e62e238a-27e3-46c7-e226-143f2c4a2bff"
      },
      "source": [
        "%timeit isprime_list(10**6)  # 1000 ms = 1 second."
      ],
      "execution_count": null,
      "outputs": [
        {
          "output_type": "stream",
          "name": "stdout",
          "text": [
            "36.4 ms ± 1.3 ms per loop (mean ± std. dev. of 7 runs, 10 loops each)\n"
          ]
        }
      ]
    },
    {
      "cell_type": "code",
      "metadata": {
        "id": "Dy3dxyNCo1Nw",
        "colab": {
          "base_uri": "https://localhost:8080/"
        },
        "outputId": "d74a0426-6eb4-4b84-c7c1-95cfa370e180"
      },
      "source": [
        "%timeit sum(isprime_list(10**6))"
      ],
      "execution_count": null,
      "outputs": [
        {
          "output_type": "stream",
          "name": "stdout",
          "text": [
            "56.5 ms ± 1.41 ms per loop (mean ± std. dev. of 7 runs, 10 loops each)\n"
          ]
        }
      ]
    },
    {
      "cell_type": "markdown",
      "metadata": {
        "id": "WiEYpMXUo1Nw"
      },
      "source": [
        "This isn't too bad!  It takes a fraction of a second to identify the primes up to a million, and a smaller fraction of a second to count them!  But we can do a little better.  \n",
        "\n",
        "The first improvement is to take care of the even numbers first.  If we count carefully, then the sequence 4,6,8,...,n (ending at n-1 if n is odd) has the floor of (n-2)/2 terms.  Thus the line `flags[4::2] = [False] * ((n-2)//2)` will set all the flags to False in the sequence 4,6,8,10,...  From there, we can begin sieving by *odd* primes starting with 3.\n",
        "\n",
        "The next improvement is that, since we've already sieved out all the even numbers (except 2), we don't have to sieve out again by *even multiples*.  So when sieving by multiples of 3, we don't have to sieve out 9,12,15,18,21,etc..  We can just sieve out 9,15,21,etc..  When `p` is an odd prime, this can be taken care of with the code `flags[p*p::2*p] = [False] * len(flags[p*p::2*p])`.  "
      ]
    },
    {
      "cell_type": "code",
      "metadata": {
        "id": "MBU0GJsSo1Nx"
      },
      "source": [
        "def isprime_list(n):\n",
        "    ''' \n",
        "    Return a list of length n+1\n",
        "    with Trues at prime indices and Falses at composite indices.\n",
        "    '''\n",
        "    flags = [True] * (n+1)  # A list [True, True, True,...] to start.\n",
        "    flags[0] = False  # Zero is not prime.  So its flag is set to False.\n",
        "    flags[1] = False  # One is not prime.  So its flag is set to False.\n",
        "    flags[4::2] = [False] * ((n-2)//2)\n",
        "    p = 3\n",
        "    while p <= sqrt(n):  # We only need to sieve by p is p <= sqrt(n).\n",
        "        if flags[p]:  # We sieve the multiples of p if flags[p]=True.\n",
        "            flags[p*p::2*p] = [False] * len(flags[p*p::2*p]) # Sieves out multiples of p, starting at p*p.\n",
        "        p = p + 2 # Try the next value of p.  Note that we can proceed only through odd p!\n",
        "        \n",
        "    return flags"
      ],
      "execution_count": null,
      "outputs": []
    },
    {
      "cell_type": "code",
      "metadata": {
        "id": "gW6DlvCmo1Nx",
        "colab": {
          "base_uri": "https://localhost:8080/"
        },
        "outputId": "cc8faae8-0d41-4a12-8746-1ed82bd7e0f7"
      },
      "source": [
        "%timeit sum(isprime_list(10**6))  # How much did this speed it up?"
      ],
      "execution_count": null,
      "outputs": [
        {
          "output_type": "stream",
          "name": "stdout",
          "text": [
            "69.5 ms ± 929 µs per loop (mean ± std. dev. of 7 runs, 10 loops each)\n"
          ]
        }
      ]
    },
    {
      "cell_type": "markdown",
      "metadata": {
        "id": "hiCV5pUEo1Nx"
      },
      "source": [
        "Another modest improvement is the following.  In the code above, the program *counts* the terms in sequences like 9,15,21,27,..., in order to set them to `False`.  This is accomplished with the length command `len(flags[p*p::2*p])`.  But that length computation is a bit too intensive.  A bit of algebraic work shows that the length is given formulaically in terms of `p` and `n` by the formula:  \n",
        "\n",
        "$$len = \\lfloor \\frac{n - p^2 - 1}{2p} \\rfloor + 1$$\n",
        "\n",
        "(Here $\\lfloor x \\rfloor$ denotes the floor function, i.e., the result of rounding down.)  Putting this into the code yields the following."
      ]
    },
    {
      "cell_type": "code",
      "metadata": {
        "id": "46RPEsKCo1Nx"
      },
      "source": [
        "def isprime_list(n):\n",
        "    ''' \n",
        "    Return a list of length n+1\n",
        "    with Trues at prime indices and Falses at composite indices.\n",
        "    '''\n",
        "    flags = [True] * (n+1)  # A list [True, True, True,...] to start.\n",
        "    flags[0] = False  # Zero is not prime.  So its flag is set to False.\n",
        "    flags[1] = False  # One is not prime.  So its flag is set to False.\n",
        "    flags[4::2] = [False] * ((n-2)//2)\n",
        "    p = 3\n",
        "    while p <= sqrt(n):  # We only need to sieve by p is p <= sqrt(n).\n",
        "        if flags[p]:  # We sieve the multiples of p if flags[p]=True.\n",
        "            flags[p*p::2*p] = [False] * ((n-p*p)//(2*p)+1) # Sieves out multiples of p, starting at p*p.\n",
        "        p = p + 2 # Try the next value of p.\n",
        "        \n",
        "    return flags"
      ],
      "execution_count": null,
      "outputs": []
    },
    {
      "cell_type": "code",
      "metadata": {
        "id": "gMCxzJ8yo1Nx",
        "colab": {
          "base_uri": "https://localhost:8080/"
        },
        "outputId": "d9d9dfe1-c1ae-48f6-fdcb-b64fde8f6f0b"
      },
      "source": [
        "%timeit sum(isprime_list(10**6))  # How much did this speed it up?"
      ],
      "execution_count": null,
      "outputs": [
        {
          "output_type": "stream",
          "name": "stdout",
          "text": [
            "46.4 ms ± 8.15 ms per loop (mean ± std. dev. of 7 runs, 10 loops each)\n"
          ]
        }
      ]
    },
    {
      "cell_type": "markdown",
      "metadata": {
        "id": "NT6XwvCJo1Nx"
      },
      "source": [
        "That should be pretty fast!  It should be under 100 ms (one tenth of one second!) to determine the primes up to a million, and on a newer computer it should be under 50ms.  We have gotten pretty close to the fastest algorithms that you can find in Python, without using external packages (like SAGE or sympy).  See the related [discussion on StackOverflow](https://stackoverflow.com/questions/2068372/fastest-way-to-list-all-primes-below-n)... the code in this lesson was influenced by the code presented there."
      ]
    },
    {
      "cell_type": "markdown",
      "metadata": {
        "id": "8Noiny4ho1Nx"
      },
      "source": [
        "### Exercises\n",
        "\n",
        "1.  Prove that the length of `range(p*p, n, 2*p)` equals $\\lfloor \\frac{n - p^2 - 1}{2p} \\rfloor + 1$.\n",
        "\n",
        "2.  A natural number $n$ is called squarefree if it has no perfect square divides $n$ except for 1.  Write a function `squarefree_list(n)` which outputs a list of booleans:  `True` if the index is squarefree and `False` if the index is not squarefree.  For example, if you execute `squarefree_list(12)`, the output should be `[False, True, True, True, False, True, True, True, False, False, True, True, False]`.  Note that the `False` entries are located the indices 0, 4, 8, 9, 12.  These natural numbers have perfect square divisors besides 1.  \n",
        "\n",
        "3.  Your DNA contains about 3 billion base pairs.  Each \"base pair\" can be thought of as a letter, A, T, G, or C.  How many bits would be required to store a single base pair?  In other words, how might you convert a sequence of booleans into a letter A,T,G, or C?  Given this, how many megabytes or gigabytes are required to store your DNA?  How many people's DNA would fit on a thumb-drive?"
      ]
    },
    {
      "cell_type": "code",
      "source": [
        "#1\n",
        "#We know that the number of times 2p appears in a range of length p**2 to n where n>p**2 is equal to \n",
        "#the difference in the distance of n and p**2 and divided by 2p, which can be denoted as an integer \n",
        "#function: (n-p**2)/2*p. However, this doesn’t always produce integers whereas in python, the len\n",
        "#function always does. While playing with the len function, I realized that len always rounds up to \n",
        "#the nearest integer, whereas the int function always rounds down. To force my integer function to \n",
        "#behave like the len function, I need to add 1 to the end, so that it will always round down which \n",
        "#can now be denoted like this: ((n-p**2)/2*p)+1. This works for all n, except for when n-p**2%2*p=0.\n",
        "#When this is equal to zero, the len function keeps whatever integer is needed to multiply by 2*p \n",
        "#to equal n-p**2, but, my integer function adds one! So, to keep this from happening we need to \n",
        "#decrease the numerator by 1 to denote: ((n-p**2-1)/2*p)+1. This will always work because now anytime \n",
        "#n-p**2-1%2p=0, my integer function will match the len function.\n"
      ],
      "metadata": {
        "id": "AykEO7mGXPrn"
      },
      "execution_count": null,
      "outputs": []
    },
    {
      "cell_type": "code",
      "source": [
        "from itertools import filterfalse\n",
        "#2\n",
        "def squarefree_list(n):\n",
        "  nosqr = [True] * (n+1)\n",
        "  nosqr[0]=False\n",
        "  k=1\n",
        "  p=2\n",
        "  for k in range(1,n+1):\n",
        "    for p in range (2,n+1):\n",
        "      if k%(p**2)==0:\n",
        "        nosqr[k]=False\n",
        "      p=p+1\n",
        "    k=k+1\n",
        "  print(nosqr)\n",
        "squarefree_list(12)\n"
      ],
      "metadata": {
        "colab": {
          "base_uri": "https://localhost:8080/"
        },
        "id": "vo-826cBU39c",
        "outputId": "9c05d0f5-3385-466e-ed66-cb7e0d8eddd0"
      },
      "execution_count": null,
      "outputs": [
        {
          "output_type": "stream",
          "name": "stdout",
          "text": [
            "[True, False, False, False, True, False, False, False, True, True, False, False, True]\n"
          ]
        }
      ]
    },
    {
      "cell_type": "code",
      "source": [
        "#3\n",
        "#We need 2 bits to do one base pair (since there are four choices) so we need six billion bits\n",
        "#to do all three billion base pairs. This would take 750 Megabytes and three quarters of a byte!\n",
        "#It depends on how big the thumb drive is, but you could fit 4 people's DNA in a 3GB drive, you\n",
        "#could use this to scale for different sized thumb drives."
      ],
      "metadata": {
        "id": "UNH9tqN2dgfv"
      },
      "execution_count": null,
      "outputs": []
    },
    {
      "cell_type": "code",
      "source": [
        "#1\n",
        "len(range(9,30,6))"
      ],
      "metadata": {
        "colab": {
          "base_uri": "https://localhost:8080/"
        },
        "id": "FEwTs8MdQRf7",
        "outputId": "18e7a50b-d5ed-4af4-fc0d-7827363987b7"
      },
      "execution_count": null,
      "outputs": [
        {
          "output_type": "execute_result",
          "data": {
            "text/plain": [
              "4"
            ]
          },
          "metadata": {},
          "execution_count": 40
        }
      ]
    },
    {
      "cell_type": "code",
      "source": [
        "len(range(9,29,6))"
      ],
      "metadata": {
        "colab": {
          "base_uri": "https://localhost:8080/"
        },
        "id": "Ei_MbhnlSn-K",
        "outputId": "a6627c8e-77f7-4b63-e554-304fe879df12"
      },
      "execution_count": null,
      "outputs": [
        {
          "output_type": "execute_result",
          "data": {
            "text/plain": [
              "4"
            ]
          },
          "metadata": {},
          "execution_count": 38
        }
      ]
    },
    {
      "cell_type": "code",
      "source": [
        "len(range(9,26,6))"
      ],
      "metadata": {
        "colab": {
          "base_uri": "https://localhost:8080/"
        },
        "id": "-euxJ_YqSt4Q",
        "outputId": "a3e23bd2-5eff-452f-ec70-23f7209593c0"
      },
      "execution_count": null,
      "outputs": [
        {
          "output_type": "execute_result",
          "data": {
            "text/plain": [
              "3"
            ]
          },
          "metadata": {},
          "execution_count": 4
        }
      ]
    },
    {
      "cell_type": "code",
      "source": [
        "len(range(9,33,6))"
      ],
      "metadata": {
        "colab": {
          "base_uri": "https://localhost:8080/"
        },
        "id": "rKaEafKid0oJ",
        "outputId": "763354aa-ed25-4e0f-a831-ea3a8a993001"
      },
      "execution_count": null,
      "outputs": [
        {
          "output_type": "execute_result",
          "data": {
            "text/plain": [
              "5"
            ]
          },
          "metadata": {},
          "execution_count": 96
        }
      ]
    },
    {
      "cell_type": "code",
      "source": [
        "int((((30-9-1)/6)+1))"
      ],
      "metadata": {
        "colab": {
          "base_uri": "https://localhost:8080/"
        },
        "id": "CUMVqCZTTuLr",
        "outputId": "4d293200-0064-4801-cbd2-c2b028095eab"
      },
      "execution_count": null,
      "outputs": [
        {
          "output_type": "execute_result",
          "data": {
            "text/plain": [
              "4"
            ]
          },
          "metadata": {},
          "execution_count": 89
        }
      ]
    },
    {
      "cell_type": "code",
      "source": [
        "int(3.67)"
      ],
      "metadata": {
        "colab": {
          "base_uri": "https://localhost:8080/"
        },
        "id": "Izo35WokdVP3",
        "outputId": "a399e404-6149-471d-d26f-8f45d8f93c82"
      },
      "execution_count": null,
      "outputs": [
        {
          "output_type": "execute_result",
          "data": {
            "text/plain": [
              "3"
            ]
          },
          "metadata": {},
          "execution_count": 91
        }
      ]
    },
    {
      "cell_type": "markdown",
      "metadata": {
        "id": "hXac_vzPo1Nx"
      },
      "source": [
        "<a id='analysis'></a>"
      ]
    },
    {
      "cell_type": "markdown",
      "metadata": {
        "id": "tuP5axz9o1Nx"
      },
      "source": [
        "## Data analysis"
      ]
    },
    {
      "cell_type": "markdown",
      "metadata": {
        "id": "41IrhAupo1Nx"
      },
      "source": [
        "Now that we can produce a list of prime numbers quickly, we can do some data analysis:  some experimental number theory to look for trends or patterns in the sequence of prime numbers.  Since Euclid (about 300 BCE), we have known that there are infinitely many prime numbers.  But how are they distributed?  What proportion of numbers are prime, and how does this proportion change over different ranges?  As theoretical questions, these belong the the field of analytic number theory.  But it is hard to know what to prove without doing a bit of experimentation.  And so, at least since Gauss [(read Tschinkel's article about Gauss's tables)](http://www.ams.org/journals/bull/2006-43-01/S0273-0979-05-01096-7/S0273-0979-05-01096-7.pdf) started examining his extensive tables of prime numbers, mathematicians have been carrying out experimental number theory."
      ]
    },
    {
      "cell_type": "markdown",
      "metadata": {
        "id": "ZE0QFlwYo1Ny"
      },
      "source": [
        "### Analyzing the list of primes\n",
        "\n",
        "Let's begin by creating our data set:  the prime numbers up to 1 million."
      ]
    },
    {
      "cell_type": "code",
      "metadata": {
        "id": "9HB_PuBXo1Ny"
      },
      "source": [
        "primes = where(isprime_list(1000000))"
      ],
      "execution_count": null,
      "outputs": []
    },
    {
      "cell_type": "code",
      "metadata": {
        "id": "bdr1hcP0o1Ny",
        "colab": {
          "base_uri": "https://localhost:8080/"
        },
        "outputId": "6b5ed859-8617-4b49-b550-6bd493cb2f33"
      },
      "source": [
        "len(primes) # Our population size.  A statistician might call it N."
      ],
      "execution_count": null,
      "outputs": [
        {
          "output_type": "execute_result",
          "data": {
            "text/plain": [
              "78498"
            ]
          },
          "metadata": {},
          "execution_count": 50
        }
      ]
    },
    {
      "cell_type": "code",
      "metadata": {
        "id": "wJs6DNcBo1Ny",
        "colab": {
          "base_uri": "https://localhost:8080/"
        },
        "outputId": "133580be-9f8e-4fbd-c022-be5f2c29a01d"
      },
      "source": [
        "primes[-1]  # The last prime in our list, just before one million."
      ],
      "execution_count": null,
      "outputs": [
        {
          "output_type": "execute_result",
          "data": {
            "text/plain": [
              "999983"
            ]
          },
          "metadata": {},
          "execution_count": 51
        }
      ]
    },
    {
      "cell_type": "code",
      "metadata": {
        "scrolled": true,
        "id": "7geu3XMoo1Ny",
        "colab": {
          "base_uri": "https://localhost:8080/"
        },
        "outputId": "07cc23f3-f1b4-4b36-939e-17f920f5076b"
      },
      "source": [
        "type(primes) # What type is this data?"
      ],
      "execution_count": null,
      "outputs": [
        {
          "output_type": "execute_result",
          "data": {
            "text/plain": [
              "list"
            ]
          },
          "metadata": {},
          "execution_count": 52
        }
      ]
    },
    {
      "cell_type": "code",
      "metadata": {
        "id": "siBIu-IGo1Ny",
        "colab": {
          "base_uri": "https://localhost:8080/"
        },
        "outputId": "0ab6b5a5-933b-48ad-9d9e-048a380d2902"
      },
      "source": [
        "print(primes[:100]) # The first hundred prime numbers."
      ],
      "execution_count": null,
      "outputs": [
        {
          "output_type": "stream",
          "name": "stdout",
          "text": [
            "[2, 3, 5, 7, 11, 13, 17, 19, 23, 29, 31, 37, 41, 43, 47, 53, 59, 61, 67, 71, 73, 79, 83, 89, 97, 101, 103, 107, 109, 113, 127, 131, 137, 139, 149, 151, 157, 163, 167, 173, 179, 181, 191, 193, 197, 199, 211, 223, 227, 229, 233, 239, 241, 251, 257, 263, 269, 271, 277, 281, 283, 293, 307, 311, 313, 317, 331, 337, 347, 349, 353, 359, 367, 373, 379, 383, 389, 397, 401, 409, 419, 421, 431, 433, 439, 443, 449, 457, 461, 463, 467, 479, 487, 491, 499, 503, 509, 521, 523, 541]\n"
          ]
        }
      ]
    },
    {
      "cell_type": "markdown",
      "metadata": {
        "id": "A6j9MmSGo1Ny"
      },
      "source": [
        "To carry out serious analysis, we will use the method of **list comprehension** to place our population into \"bins\" for statistical analysis.  Our first type of list comprehension has the form `[x for x in LIST if CONDITION]`.  This produces the list of all elements of LIST satisfying CONDITION.  It is similar to list slicing, except we pull out terms from the list according to whether a condition is true or false.\n",
        "\n",
        "For example, let's divide the (odd) primes into two classes.  Red primes will be those of the form 4n+1.  Blue primes will be those of the form 4n+3.  In other words, a prime `p` is red if `p%4 == 1` and blue if `p%4 == 3`.  And the prime 2 is neither red nor blue."
      ]
    },
    {
      "cell_type": "code",
      "metadata": {
        "id": "bINic7Ceo1Ny",
        "colab": {
          "base_uri": "https://localhost:8080/"
        },
        "outputId": "20544e63-4b04-4399-a4d7-c8295ecffad9"
      },
      "source": [
        "redprimes = [p for p in primes if p%4 == 1] # Note the [x for x in LIST if CONDITION] syntax.\n",
        "blueprimes = [p for p in primes if p%4 == 3]\n",
        "\n",
        "print('Red primes:',redprimes[:20]) # The first 20 red primes.\n",
        "print('Blue primes:',blueprimes[:20]) # The first 20 blue primes."
      ],
      "execution_count": null,
      "outputs": [
        {
          "output_type": "stream",
          "name": "stdout",
          "text": [
            "Red primes: [5, 13, 17, 29, 37, 41, 53, 61, 73, 89, 97, 101, 109, 113, 137, 149, 157, 173, 181, 193]\n",
            "Blue primes: [3, 7, 11, 19, 23, 31, 43, 47, 59, 67, 71, 79, 83, 103, 107, 127, 131, 139, 151, 163]\n"
          ]
        }
      ]
    },
    {
      "cell_type": "code",
      "metadata": {
        "id": "XXK10HG4o1Ny",
        "colab": {
          "base_uri": "https://localhost:8080/"
        },
        "outputId": "cc677dc9-1d19-4028-b772-ed311fe11507"
      },
      "source": [
        "print(\"There are {} red primes and {} blue primes, up to 1 million.\".format(len(redprimes), len(blueprimes)))"
      ],
      "execution_count": null,
      "outputs": [
        {
          "output_type": "stream",
          "name": "stdout",
          "text": [
            "There are 39175 red primes and 39322 blue primes, up to 1 million.\n"
          ]
        }
      ]
    },
    {
      "cell_type": "markdown",
      "metadata": {
        "id": "EMVjQlHuo1Ny"
      },
      "source": [
        "This is pretty close!  It seems like prime numbers are about evenly distributed between red and blue.  Their remainder after division by 4 is about as likely to be 1 as it is to be 3.  In fact, it is proven that *asymptotically* the ratio between the number of red primes and the number of blue primes approaches 1.  However, Chebyshev noticed a persistent slight bias towards blue primes along the way."
      ]
    },
    {
      "cell_type": "markdown",
      "metadata": {
        "id": "iBN5IBLwo1Ny"
      },
      "source": [
        "Some of the deepest conjectures in mathematics relate to the [prime counting function](https://en.wikipedia.org/wiki/Prime-counting_function) $\\pi(x)$.  Here $\\pi(x)$ is the **number of primes** between 1 and $x$ (inclusive).  So $\\pi(2) = 1$ and $\\pi(3) = 2$ and $\\pi(4) = 2$ and $\\pi(5) = 3$.  One can compute a value of $\\pi(x)$ pretty easily using a list comprehension.\n",
        "\n"
      ]
    },
    {
      "cell_type": "code",
      "metadata": {
        "id": "oFK7OGHoo1Nz"
      },
      "source": [
        "def primes_upto(x):\n",
        "    return len([p for p in primes if p <= x]) # List comprehension recovers the primes up to x."
      ],
      "execution_count": null,
      "outputs": []
    },
    {
      "cell_type": "code",
      "metadata": {
        "id": "eCi28UhMo1Nz",
        "colab": {
          "base_uri": "https://localhost:8080/"
        },
        "outputId": "15db32d6-dae7-4fa4-abca-ec23a08daac8"
      },
      "source": [
        "primes_upto(1000)  # There are 168 primes between 1 and 1000."
      ],
      "execution_count": null,
      "outputs": [
        {
          "output_type": "execute_result",
          "data": {
            "text/plain": [
              "168"
            ]
          },
          "metadata": {},
          "execution_count": 57
        }
      ]
    },
    {
      "cell_type": "markdown",
      "metadata": {
        "id": "ZlnkhYw7o1Nz"
      },
      "source": [
        "Now we graph the prime counting function.  To do this, we use a list comprehension, and the visualization library called matplotlib.  For graphing a function, the basic idea is to create a list of x-values, a list of corresponding y-values (so the lists have to be the same length!), and then we feed the two lists into matplotlib to make the graph.\n",
        "\n",
        "We begin by loading the necessary packages."
      ]
    },
    {
      "cell_type": "code",
      "metadata": {
        "id": "cvVF2M5Go1Nz"
      },
      "source": [
        "import matplotlib  #  A powerful graphics package.\n",
        "import numpy  #  A math package\n",
        "import matplotlib.pyplot as plt  # A plotting subpackage in matplotlib."
      ],
      "execution_count": null,
      "outputs": []
    },
    {
      "cell_type": "markdown",
      "metadata": {
        "id": "-iouxGxro1Nz"
      },
      "source": [
        "Now let's graph the function $y = x^2$ over the domain $-2 \\leq x \\leq 2$ for practice.  As a first step, we use numpy's `linspace` function to create an evenly spaced set of 11 x-values between -2 and 2."
      ]
    },
    {
      "cell_type": "code",
      "metadata": {
        "id": "n7oh0AAAo1Nz",
        "colab": {
          "base_uri": "https://localhost:8080/"
        },
        "outputId": "086f487f-cdf6-4b7f-e02f-5a83dc6da094"
      },
      "source": [
        "x_values = numpy.linspace(-2,2,11)  # The argument 11 is the *number* of terms, not the step size!\n",
        "print(x_values)\n",
        "type(x_values)"
      ],
      "execution_count": null,
      "outputs": [
        {
          "output_type": "stream",
          "name": "stdout",
          "text": [
            "[-2.  -1.6 -1.2 -0.8 -0.4  0.   0.4  0.8  1.2  1.6  2. ]\n"
          ]
        },
        {
          "output_type": "execute_result",
          "data": {
            "text/plain": [
              "numpy.ndarray"
            ]
          },
          "metadata": {},
          "execution_count": 59
        }
      ]
    },
    {
      "cell_type": "markdown",
      "metadata": {
        "id": "idcqPGZ0o1Nz"
      },
      "source": [
        "You might notice that the format looks a bit different from a list.  Indeed, if you check `type(x_values)`, it's not a list but something else called a numpy array.  Numpy is a package that excels with computations on large arrays of data.  On the surface, it's not so different from a list.  The `numpy.linspace` command is a convenient way of producing an evenly spaced list of inputs.\n",
        "\n",
        "The big difference is that operations on numpy arrays are interpreted differently than operations on ordinary Python lists.  Try the two commands for comparison."
      ]
    },
    {
      "cell_type": "code",
      "metadata": {
        "id": "5LjKKSeZo1Nz",
        "colab": {
          "base_uri": "https://localhost:8080/"
        },
        "outputId": "5395546b-1f6d-424c-cfb9-92fac0542b29"
      },
      "source": [
        "[1,2,3] + [1,2,3]"
      ],
      "execution_count": null,
      "outputs": [
        {
          "output_type": "execute_result",
          "data": {
            "text/plain": [
              "[1, 2, 3, 1, 2, 3]"
            ]
          },
          "metadata": {},
          "execution_count": 60
        }
      ]
    },
    {
      "cell_type": "code",
      "metadata": {
        "id": "qZFk1LBJo1Nz",
        "colab": {
          "base_uri": "https://localhost:8080/"
        },
        "outputId": "fd311ffb-d721-4acd-ed6c-26bd2905deb6"
      },
      "source": [
        "x_values + x_values"
      ],
      "execution_count": null,
      "outputs": [
        {
          "output_type": "execute_result",
          "data": {
            "text/plain": [
              "array([-4. , -3.2, -2.4, -1.6, -0.8,  0. ,  0.8,  1.6,  2.4,  3.2,  4. ])"
            ]
          },
          "metadata": {},
          "execution_count": 61
        }
      ]
    },
    {
      "cell_type": "code",
      "metadata": {
        "id": "LyesLSuPo1N0",
        "colab": {
          "base_uri": "https://localhost:8080/"
        },
        "outputId": "85e1b642-c07d-4b7c-a4f4-e006a708c438"
      },
      "source": [
        "y_values = x_values * x_values  # How is multiplication interpreted on numpy arrays?\n",
        "print(y_values)"
      ],
      "execution_count": null,
      "outputs": [
        {
          "output_type": "stream",
          "name": "stdout",
          "text": [
            "[4.   2.56 1.44 0.64 0.16 0.   0.16 0.64 1.44 2.56 4.  ]\n"
          ]
        }
      ]
    },
    {
      "cell_type": "markdown",
      "metadata": {
        "id": "uAFegDVTo1N0"
      },
      "source": [
        "Now we use matplotlib to create a simple line graph."
      ]
    },
    {
      "cell_type": "code",
      "metadata": {
        "id": "tjB51noto1N0",
        "colab": {
          "base_uri": "https://localhost:8080/",
          "height": 299
        },
        "outputId": "32991511-315a-4036-8731-5d0f8a7bde34"
      },
      "source": [
        "%matplotlib inline\n",
        "plt.plot(x_values, y_values)\n",
        "plt.title('The graph of $y = x^2$')  # The dollar signs surround the formula, in LaTeX format.\n",
        "plt.ylabel('y')\n",
        "plt.xlabel('x')\n",
        "plt.grid(True)\n",
        "plt.show()\n"
      ],
      "execution_count": null,
      "outputs": [
        {
          "output_type": "display_data",
          "data": {
            "text/plain": [
              "<Figure size 432x288 with 1 Axes>"
            ],
            "image/png": "[encoded data removed]"
          },
          "metadata": {
            "needs_background": "light"
          }
        }
      ]
    },
    {
      "cell_type": "markdown",
      "metadata": {
        "id": "9Wg3S1WTo1N0"
      },
      "source": [
        "Let's analyze the graphing code a bit more.  See the [official pyplot tutorial](https://matplotlib.org/users/pyplot_tutorial.html) for more details.  \n",
        "```python\n",
        "%matplotlib inline\n",
        "plt.plot(x_values, y_values)\n",
        "plt.title('The graph of $y = x^2$')  # The dollar signs surround the formula, in LaTeX format.\n",
        "plt.ylabel('y')\n",
        "plt.xlabel('x')\n",
        "plt.grid(True)\n",
        "plt.show()\n",
        "```\n",
        "The first line contains the **magic** `%matplotlib inline`.  We have seen a magic word before, in `%timeit`.  [Magic words](http://ipython.readthedocs.io/en/stable/interactive/magics.html) can call another program to assist.  So here, the magic `%matplotlib inline` calls matplotlib for help, and places the resulting figure within the notebook.\n",
        "\n",
        "The next line `plt.plot(x_values, y_values)` creates a `plot object` based on the data of the x-values and y-values.  It is an abstract sort of object, behind the scenes, in a format that matplotlib understands.  The following lines set the title of the plot, the axis labels, and turns a grid on.  The last line `plt.show` renders the plot as an image in your notebook.  There's an infinite variety of graphs that matplotlib can produce -- see [the gallery](https://matplotlib.org/gallery.html) for more!  Other graphics packages include [bokeh](http://bokeh.pydata.org/en/latest/) and [seaborn](http://seaborn.pydata.org/), which extends matplotlib."
      ]
    },
    {
      "cell_type": "markdown",
      "metadata": {
        "id": "b0yTOq4-o1N0"
      },
      "source": [
        "### Analysis of the prime counting function\n",
        "\n",
        "Now, to analyze the prime counting function, let's graph it.  To make a graph, we will first need a list of many values of x and many corresponding values of $\\pi(x)$.  We do this with two commands.  The first might take a minute to compute."
      ]
    },
    {
      "cell_type": "code",
      "metadata": {
        "id": "gnKV26bno1N0"
      },
      "source": [
        "x_values = numpy.linspace(0,1000000,1001) # The numpy array [0,1000,2000,3000,...,1000000]\n",
        "pix_values = numpy.array([primes_upto(x) for x in x_values])  # [FUNCTION(x) for x in LIST] syntax"
      ],
      "execution_count": null,
      "outputs": []
    },
    {
      "cell_type": "markdown",
      "metadata": {
        "id": "aqlila-uo1N0"
      },
      "source": [
        "We created an array of x-values as before.  But the creation of an array of y-values (here, called `pix_values` to stand for $\\pi(x)$) probably looks strange.  We have done two new things!\n",
        "\n",
        "1.  We have used a list comprehension `[primes_upto(x) for x in x_values]` to create a **list** of y-values.\n",
        "2.  We have used numpy.array(LIST) syntax to convert a Python list into a numpy array.\n",
        "\n",
        "First, we explain the list comprehension.  Instead of pulling out values of a list according to a condition, with `[x for x in LIST if CONDITION]`, we have created a new list based on performing a function each element of a list.  The syntax, used above, is `[FUNCTION(x) for x in LIST]`.  These two methods of list comprehension can be combined, in fact.  The most general syntax for list comprehension is `[FUNCTION(x) for x in LIST if CONDITION]`.\n",
        "\n",
        "Second, a list comprehension can be carried out on a numpy array, but the result is a plain Python list.  It will be better to have a numpy array instead for what follows, so we use the `numpy.array()` function to convert the list into a numpy array."
      ]
    },
    {
      "cell_type": "code",
      "metadata": {
        "id": "i2DlTbsho1N0",
        "colab": {
          "base_uri": "https://localhost:8080/"
        },
        "outputId": "2be4e081-96b0-4e2e-ebdc-b49855a9c987"
      },
      "source": [
        "type(numpy.array([1,2,3]))  # For example."
      ],
      "execution_count": null,
      "outputs": [
        {
          "output_type": "execute_result",
          "data": {
            "text/plain": [
              "numpy.ndarray"
            ]
          },
          "metadata": {},
          "execution_count": 65
        }
      ]
    },
    {
      "cell_type": "markdown",
      "metadata": {
        "id": "BMmq8Fx4o1N0"
      },
      "source": [
        "Now we have two numpy arrays:  the array of x-values and the array of y-values.  We can make a plot with matplotlib."
      ]
    },
    {
      "cell_type": "code",
      "metadata": {
        "id": "Cq5kg4HPo1N0",
        "colab": {
          "base_uri": "https://localhost:8080/"
        },
        "outputId": "18842d1c-405e-41a2-a74a-00c82521c42a"
      },
      "source": [
        "len(x_values) == len(pix_values)  # These better be the same, or else matplotlib will be unhappy."
      ],
      "execution_count": null,
      "outputs": [
        {
          "output_type": "execute_result",
          "data": {
            "text/plain": [
              "True"
            ]
          },
          "metadata": {},
          "execution_count": 66
        }
      ]
    },
    {
      "cell_type": "code",
      "metadata": {
        "id": "DEfDVt9Wo1N0",
        "colab": {
          "base_uri": "https://localhost:8080/",
          "height": 295
        },
        "outputId": "b33a7c7a-10c7-4fd0-de2b-26c181322b72"
      },
      "source": [
        "%matplotlib inline\n",
        "plt.plot(x_values, pix_values)\n",
        "plt.title('The prime counting function')\n",
        "plt.ylabel('$\\pi(x)$')\n",
        "plt.xlabel('x')\n",
        "plt.grid(True)\n",
        "plt.show()"
      ],
      "execution_count": null,
      "outputs": [
        {
          "output_type": "display_data",
          "data": {
            "text/plain": [
              "<Figure size 432x288 with 1 Axes>"
            ],
            "image/png": "[encoded data removed]"
          },
          "metadata": {
            "needs_background": "light"
          }
        }
      ]
    },
    {
      "cell_type": "markdown",
      "metadata": {
        "id": "R7djMP0do1N1"
      },
      "source": [
        "In this range, the prime counting function might look nearly linear.  But if you look closely, there's a subtle downward bend.  This is more pronounced in smaller ranges.  For example, let's look at the first 10 x-values and y-values only."
      ]
    },
    {
      "cell_type": "code",
      "metadata": {
        "id": "oTPTeUX4o1N1",
        "colab": {
          "base_uri": "https://localhost:8080/",
          "height": 295
        },
        "outputId": "5f2e2ea8-4f7e-4371-ddcf-ea9bf1157232"
      },
      "source": [
        "%matplotlib inline\n",
        "plt.plot(x_values[:10], pix_values[:10])  # Look closer to 0.\n",
        "plt.title('The prime counting function')\n",
        "plt.ylabel('$\\pi(x)$')\n",
        "plt.xlabel('x')\n",
        "plt.grid(True)\n",
        "plt.show()"
      ],
      "execution_count": null,
      "outputs": [
        {
          "output_type": "display_data",
          "data": {
            "text/plain": [
              "<Figure size 432x288 with 1 Axes>"
            ],
            "image/png": "[encoded data removed]"
          },
          "metadata": {
            "needs_background": "light"
          }
        }
      ]
    },
    {
      "cell_type": "markdown",
      "metadata": {
        "id": "EnrdVEyCo1N1"
      },
      "source": [
        "It still looks almost linear, but there's a visible downward bend here.  How can we see this bend more clearly?  If the graph were linear, its equation would have the form $\\pi(x) = mx$ for some fixed slope $m$ (since the graph *does* pass through the origin).  Therefore, the quantity $\\pi(x)/x$ would be *constant* if the graph were linear.  \n",
        "\n",
        "Hence, if we graph $\\pi(x) / x$ on the y-axis and $x$ on the x-axis, and the result is nonconstant, then the function $\\pi(x)$ is nonlinear."
      ]
    },
    {
      "cell_type": "code",
      "metadata": {
        "id": "ZgRF7b2Ko1N1"
      },
      "source": [
        "m_values = pix_values[1:] / x_values[1:]  # We start at 1, to avoid a division by zero error."
      ],
      "execution_count": null,
      "outputs": []
    },
    {
      "cell_type": "code",
      "metadata": {
        "id": "-grvUV4so1N1",
        "colab": {
          "base_uri": "https://localhost:8080/",
          "height": 297
        },
        "outputId": "ffc9cca7-d865-41c4-bb58-b47c669533e2"
      },
      "source": [
        "%matplotlib inline\n",
        "plt.plot(x_values[1:], m_values)\n",
        "plt.title('The ratio $\\pi(x) / x$ as $x$ varies.')\n",
        "plt.xlabel('x')\n",
        "plt.ylabel('$\\pi(x) / x$')\n",
        "plt.grid(True)\n",
        "plt.show()"
      ],
      "execution_count": null,
      "outputs": [
        {
          "output_type": "display_data",
          "data": {
            "text/plain": [
              "<Figure size 432x288 with 1 Axes>"
            ],
            "image/png": "[encoded data removed]"
          },
          "metadata": {
            "needs_background": "light"
          }
        }
      ]
    },
    {
      "cell_type": "markdown",
      "metadata": {
        "id": "HwGVsVlxo1N1"
      },
      "source": [
        "That is certainly not constant!  The decay of $\\pi(x) / x$ is not so different from $1 / \\log(x)$, in fact.  To see this, let's overlay the graphs.  We use the `numpy.log` function, which computes the natural logarithm of its input (and allows an entire array as input)."
      ]
    },
    {
      "cell_type": "code",
      "metadata": {
        "id": "YlSSqcDko1N1",
        "colab": {
          "base_uri": "https://localhost:8080/",
          "height": 297
        },
        "outputId": "14761cb8-fd25-4425-f6f6-26b64106695d"
      },
      "source": [
        "%matplotlib inline\n",
        "plt.plot(x_values[1:], m_values, label='$\\pi(x)/x$')  # The same as the plot above.\n",
        "plt.plot(x_values[1:], 1 / numpy.log(x_values[1:]), label='$1 / \\log(x)$')  # Overlay the graph of 1 / log(x)\n",
        "plt.title('The ratio of $\\pi(x) / x$ as $x$ varies.')\n",
        "plt.xlabel('x')\n",
        "plt.ylabel('$\\pi(x) / x$')\n",
        "plt.grid(True)\n",
        "plt.legend()  # Turn on the legend.\n",
        "plt.show()"
      ],
      "execution_count": null,
      "outputs": [
        {
          "output_type": "display_data",
          "data": {
            "text/plain": [
              "<Figure size 432x288 with 1 Axes>"
            ],
            "image/png": "[encoded data removed]"
          },
          "metadata": {
            "needs_background": "light"
          }
        }
      ]
    },
    {
      "cell_type": "markdown",
      "metadata": {
        "id": "zrPg3i8-o1N1"
      },
      "source": [
        "The shape of the decay of $\\pi(x) / x$ is very close to $1 / \\log(x)$, but it looks like there is an offset.  In fact, there is, and it is pretty close to $1 / \\log(x)^2$.  And that is close, but again there's another little offset, this time proportional to $2 / \\log(x)^3$.  This goes on forever, if one wishes to approximate $\\pi(x) / x$ by an \"asymptotic expansion\" (not a good idea, it turns out).\n",
        "\n",
        "The closeness of $\\pi(x) / x$ to $1 / \\log(x)$ is expressed in the **prime number theorem**:\n",
        "$$\\lim_{x \\rightarrow \\infty} \\frac{\\pi(x)}{x / \\log(x)} = 1.$$"
      ]
    },
    {
      "cell_type": "code",
      "metadata": {
        "id": "NWQ3CIVwo1N1",
        "colab": {
          "base_uri": "https://localhost:8080/",
          "height": 297
        },
        "outputId": "05023db3-12e2-411f-bfae-19e49a161e33"
      },
      "source": [
        "%matplotlib inline\n",
        "plt.plot(x_values[1:], m_values * numpy.log(x_values[1:])  )  # Should get closer to 1.\n",
        "plt.title('The ratio $\\pi(x) / (x / \\log(x))$ approaches 1... slowly')\n",
        "plt.xlabel('x')\n",
        "plt.ylabel('$\\pi(x) / (x / \\log(x)) $')\n",
        "plt.ylim(0.8,1.2)\n",
        "plt.grid(True)\n",
        "plt.show()"
      ],
      "execution_count": null,
      "outputs": [
        {
          "output_type": "display_data",
          "data": {
            "text/plain": [
              "<Figure size 432x288 with 1 Axes>"
            ],
            "image/png": "[encoded data removed]"
          },
          "metadata": {
            "needs_background": "light"
          }
        }
      ]
    },
    {
      "cell_type": "markdown",
      "metadata": {
        "id": "X6ELoOO-o1N1"
      },
      "source": [
        "Comparing the graph to the theoretical result, we find that the ratio $\\pi(x) / (x / \\log(x))$ approaches $1$ (the theoretical result) but very slowly (see the graph above!)."
      ]
    },
    {
      "cell_type": "markdown",
      "metadata": {
        "id": "aqXOKRako1N1"
      },
      "source": [
        "A much stronger result relates $\\pi(x)$ to the \"logarithmic integral\" $li(x)$.  The [Riemann hypothesis](http://www.claymath.org/millennium-problems/riemann-hypothesis) is equivalent to the statement\n",
        "$$\\left\\vert \\pi(x) - li(x) \\right\\vert = O(\\sqrt{x} \\log(x)).$$\n",
        "In other words, the error if one approximates $\\pi(x)$ by $li(x)$ is bounded by a constant times $\\sqrt{x} \\log(x)$.  The logarithmic integral function isn't part of Python or numpy, but it is in the mpmath package.  If you have this package installed, then you can try the following."
      ]
    },
    {
      "cell_type": "code",
      "metadata": {
        "id": "KqOcdcCjo1N2"
      },
      "source": [
        "from mpmath import li"
      ],
      "execution_count": null,
      "outputs": []
    },
    {
      "cell_type": "code",
      "metadata": {
        "id": "Pgee6LGxo1N2",
        "colab": {
          "base_uri": "https://localhost:8080/"
        },
        "outputId": "236d16ff-fd2c-4087-9946-2e623836fff0"
      },
      "source": [
        "print(primes_upto(1000000))  # The number of primes up to 1 million.\n",
        "print(li(1000000))  # The logarithmic integral of 1 million."
      ],
      "execution_count": null,
      "outputs": [
        {
          "output_type": "stream",
          "name": "stdout",
          "text": [
            "78498\n",
            "78627.5491594622\n"
          ]
        }
      ]
    },
    {
      "cell_type": "markdown",
      "metadata": {
        "id": "8Ak3l_pPo1N2"
      },
      "source": [
        "Not too shabby!"
      ]
    },
    {
      "cell_type": "markdown",
      "metadata": {
        "id": "Sp7gn8eto1N2"
      },
      "source": [
        "### Prime gaps\n",
        "\n",
        "As a last bit of data analysis, we consider the **prime gaps**.  These are the numbers that occur as differences between consecutive primes.  Since all primes except 2 are odd, all prime gaps are even except for the 1-unit gap between 2 and 3.  There are many unsolved problems about prime gaps; the most famous might be that a gap of 2 occurs infinitely often (as in the gaps between 3,5 and between 11,13 and between 41,43, etc.).\n",
        "\n",
        "Once we have our data set of prime numbers, it is not hard to create a data set of prime gaps.  Recall that `primes` is our list of prime numbers up to 1 million."
      ]
    },
    {
      "cell_type": "code",
      "metadata": {
        "id": "NHd3eV32o1N2",
        "colab": {
          "base_uri": "https://localhost:8080/"
        },
        "outputId": "0b8044cf-df9d-47aa-e6bf-f72e4810f118"
      },
      "source": [
        "len(primes) # The number of primes up to 1 million."
      ],
      "execution_count": null,
      "outputs": [
        {
          "output_type": "execute_result",
          "data": {
            "text/plain": [
              "78498"
            ]
          },
          "metadata": {},
          "execution_count": 75
        }
      ]
    },
    {
      "cell_type": "code",
      "metadata": {
        "id": "XHc6S5mzo1N2"
      },
      "source": [
        "primes_allbutlast = primes[:-1]  # This excludes the last prime in the list.\n",
        "primes_allbutfirst = primes[1:]  # This excludes the first (i.e., with index 0) prime in the list."
      ],
      "execution_count": null,
      "outputs": []
    },
    {
      "cell_type": "code",
      "metadata": {
        "id": "QBIkUK5eo1N2"
      },
      "source": [
        "primegaps = numpy.array(primes_allbutfirst) - numpy.array(primes_allbutlast) # Numpy is fast!"
      ],
      "execution_count": null,
      "outputs": []
    },
    {
      "cell_type": "code",
      "metadata": {
        "id": "tqGLrNREo1N2",
        "colab": {
          "base_uri": "https://localhost:8080/"
        },
        "outputId": "2155c66e-5d28-43b7-e36f-04043bcc8918"
      },
      "source": [
        "print(primegaps[:100])  # The first hundred prime gaps!"
      ],
      "execution_count": null,
      "outputs": [
        {
          "output_type": "stream",
          "name": "stdout",
          "text": [
            "[ 1  2  2  4  2  4  2  4  6  2  6  4  2  4  6  6  2  6  4  2  6  4  6  8\n",
            "  4  2  4  2  4 14  4  6  2 10  2  6  6  4  6  6  2 10  2  4  2 12 12  4\n",
            "  2  4  6  2 10  6  6  6  2  6  4  2 10 14  4  2  4 14  6 10  2  4  6  8\n",
            "  6  6  4  6  8  4  8 10  2 10  2  6  4  6  8  4  2  4 12  8  4  8  4  6\n",
            " 12  2 18  6]\n"
          ]
        }
      ]
    },
    {
      "cell_type": "markdown",
      "metadata": {
        "id": "nmMeiaSpo1N2"
      },
      "source": [
        "What have we done?  It is useful to try out this method on a short list.  "
      ]
    },
    {
      "cell_type": "code",
      "metadata": {
        "id": "on-JH3dTo1N2"
      },
      "source": [
        "L = [1,3,7,20]  # A nice short list."
      ],
      "execution_count": null,
      "outputs": []
    },
    {
      "cell_type": "code",
      "metadata": {
        "id": "f4iyePe3o1N2",
        "colab": {
          "base_uri": "https://localhost:8080/"
        },
        "outputId": "6eaa20c5-a80d-4d36-9088-a314c303a243"
      },
      "source": [
        "print(L[:-1])\n",
        "print(L[1:])"
      ],
      "execution_count": null,
      "outputs": [
        {
          "output_type": "stream",
          "name": "stdout",
          "text": [
            "[1, 3, 7]\n",
            "[3, 7, 20]\n"
          ]
        }
      ]
    },
    {
      "cell_type": "markdown",
      "metadata": {
        "id": "gpKfCHEEo1N3"
      },
      "source": [
        "Now we have two lists of the same length.  The gaps in the original list `L` are the differences between terms of the *same* index in the two new lists.  One might be tempted to just subtract, e.g., with the command `L[1:] - L[:-1]`, but subtraction is not defined for lists.\n",
        "\n",
        "Fortunately, by converting the lists to numpy arrays, we can use numpy's term-by-term subtraction operation."
      ]
    },
    {
      "cell_type": "code",
      "metadata": {
        "id": "H2Ob8Jkro1N3",
        "colab": {
          "base_uri": "https://localhost:8080/",
          "height": 169
        },
        "outputId": "dfb6ee6d-6657-4cc3-a919-6c00ecd5a15f"
      },
      "source": [
        "L[1:] - L[:-1]  # This will give a TypeError.  You can't subtract lists!"
      ],
      "execution_count": null,
      "outputs": [
        {
          "output_type": "error",
          "ename": "TypeError",
          "evalue": "ignored",
          "traceback": [
            "\u001b[0;31m---------------------------------------------------------------------------\u001b[0m",
            "\u001b[0;31mTypeError\u001b[0m                                 Traceback (most recent call last)",
            "\u001b[0;32m<ipython-input-81-0c27eb74e0a4>\u001b[0m in \u001b[0;36m<module>\u001b[0;34m\u001b[0m\n\u001b[0;32m----> 1\u001b[0;31m \u001b[0mL\u001b[0m\u001b[0;34m[\u001b[0m\u001b[0;36m1\u001b[0m\u001b[0;34m:\u001b[0m\u001b[0;34m]\u001b[0m \u001b[0;34m-\u001b[0m \u001b[0mL\u001b[0m\u001b[0;34m[\u001b[0m\u001b[0;34m:\u001b[0m\u001b[0;34m-\u001b[0m\u001b[0;36m1\u001b[0m\u001b[0;34m]\u001b[0m  \u001b[0;31m# This will give a TypeError.  You can't subtract lists!\u001b[0m\u001b[0;34m\u001b[0m\u001b[0;34m\u001b[0m\u001b[0m\n\u001b[0m",
            "\u001b[0;31mTypeError\u001b[0m: unsupported operand type(s) for -: 'list' and 'list'"
          ]
        }
      ]
    },
    {
      "cell_type": "code",
      "metadata": {
        "id": "lSkR4Dxho1N3",
        "colab": {
          "base_uri": "https://localhost:8080/"
        },
        "outputId": "7cdd6834-5898-48e6-99b1-e1ca6410d1eb"
      },
      "source": [
        "numpy.array(L[1:]) - numpy.array(L[:-1])  # That's better.  See the gaps in the list [1,3,7,20] in the output."
      ],
      "execution_count": null,
      "outputs": [
        {
          "output_type": "execute_result",
          "data": {
            "text/plain": [
              "array([ 2,  4, 13])"
            ]
          },
          "metadata": {},
          "execution_count": 82
        }
      ]
    },
    {
      "cell_type": "markdown",
      "metadata": {
        "id": "-dVIfFnVo1N3"
      },
      "source": [
        "Now let's return to our primegaps data set.  It contains all the gap-sizes for primes up to 1 million.  "
      ]
    },
    {
      "cell_type": "code",
      "metadata": {
        "id": "i9FFJvMbo1N3",
        "colab": {
          "base_uri": "https://localhost:8080/"
        },
        "outputId": "68fa4281-cae4-4176-a3aa-a9308f263323"
      },
      "source": [
        "print(len(primes))\n",
        "print(len(primegaps))  # This should be one less than the number of primes."
      ],
      "execution_count": null,
      "outputs": [
        {
          "output_type": "stream",
          "name": "stdout",
          "text": [
            "78498\n",
            "78497\n"
          ]
        }
      ]
    },
    {
      "cell_type": "markdown",
      "metadata": {
        "id": "hz93cWX1o1N3"
      },
      "source": [
        "As a last example of data visualization, we use matplotlib to produce a histogram of the prime gaps."
      ]
    },
    {
      "cell_type": "code",
      "metadata": {
        "id": "6V5Nj_MCo1N3",
        "colab": {
          "base_uri": "https://localhost:8080/"
        },
        "outputId": "49836c7b-1abc-4199-f2e8-566807349b22"
      },
      "source": [
        "max(primegaps)  # The largest prime gap that appears!"
      ],
      "execution_count": null,
      "outputs": [
        {
          "output_type": "execute_result",
          "data": {
            "text/plain": [
              "114"
            ]
          },
          "metadata": {},
          "execution_count": 84
        }
      ]
    },
    {
      "cell_type": "code",
      "metadata": {
        "id": "rOFsdO1Uo1N3",
        "colab": {
          "base_uri": "https://localhost:8080/",
          "height": 350
        },
        "outputId": "64ee4204-7065-43ce-b0e5-0076bffc7cd5"
      },
      "source": [
        "%matplotlib inline\n",
        "plt.figure(figsize=(12, 5))  #  Makes the resulting figure 12in by 5in.\n",
        "plt.hist(primegaps, bins=range(1,115)) #  Makes a histogram with one bin for each possible gap from 1 to 114.\n",
        "plt.ylabel('Frequency')\n",
        "plt.xlabel('Gap size')\n",
        "plt.grid(True)\n",
        "plt.title('The frequency of prime gaps, for primes up to 1 million')\n",
        "plt.show()"
      ],
      "execution_count": null,
      "outputs": [
        {
          "output_type": "display_data",
          "data": {
            "text/plain": [
              "<Figure size 864x360 with 1 Axes>"
            ],
            "image/png": "[encoded data removed]"
          },
          "metadata": {
            "needs_background": "light"
          }
        }
      ]
    },
    {
      "cell_type": "markdown",
      "metadata": {
        "id": "kkWLq7QLo1N3"
      },
      "source": [
        "Observe that gaps of 2 (twin primes) are pretty frequent.  There are over 8000 of them, and about the same number of 4-unit gaps!  But gaps of 6 are most frequent in the population, and there are some interesting peaks at 6, 12, 18, 24, 30.  What else do you observe?"
      ]
    },
    {
      "cell_type": "markdown",
      "metadata": {
        "id": "yt5JakuSo1N3"
      },
      "source": [
        "### Exercises\n",
        "\n",
        "1.  Create functions `redprimes_upto(x)` and `blueprimes_upto(x)` which count the number of red/blue primes up to a given number `x`.  Recall that we defined red/blue primes to be those of the form 4n+1 or 4n+3, respectively.  Graph the relative proportion of red/blue primes as `x` varies from 1 to 1 million.  E.g., are the proportions 50%/50% or 70%/30%, and how do these proportions change?  Note:  this is also visualized in [An Illustrated Theory of Numbers](http://bookstore.ams.org/mbk-105) and you can read [an article by Rubinstein and Sarnak](https://projecteuclid.org/euclid.em/1048515870) for more.\n",
        "\n",
        "2.  Does there seem to be a bias in the last digits of primes?  Note that, except for 2 and 5, every prime ends in 1,3,7, or 9.  Note: the last digit of a number `n` is obtained from `n % 10`.  \n",
        "\n",
        "3.  Read about the [\"Prime Conspiracy\"](https://www.quantamagazine.org/mathematicians-discover-prime-conspiracy-20160313), recently discovered by Lemke Oliver and Soundararajan.  Can you detect their conspiracy in our data set of primes?"
      ]
    },
    {
      "cell_type": "code",
      "source": [
        "#1\n",
        "def redprimes_upto(x):\n",
        "    return len([p for p in redprimes if p<=x])\n",
        "\n",
        "print(redprimes_upto(101))"
      ],
      "metadata": {
        "colab": {
          "base_uri": "https://localhost:8080/"
        },
        "id": "8yuwRnYQ-Dnm",
        "outputId": "50790b24-cc97-4c25-a3a8-af52c7255ba7"
      },
      "execution_count": 166,
      "outputs": [
        {
          "output_type": "stream",
          "name": "stdout",
          "text": [
            "12\n"
          ]
        }
      ]
    },
    {
      "cell_type": "code",
      "source": [
        "def blueprimes_upto(x):\n",
        "  return len([p for p in blueprimes if p<=x])\n",
        "print(blueprimes_upto(101))"
      ],
      "metadata": {
        "colab": {
          "base_uri": "https://localhost:8080/"
        },
        "id": "Ru1XylssBdO3",
        "outputId": "15383701-5ca4-473d-90f9-9bd19e2a01ea"
      },
      "execution_count": 167,
      "outputs": [
        {
          "output_type": "stream",
          "name": "stdout",
          "text": [
            "13\n"
          ]
        }
      ]
    },
    {
      "cell_type": "code",
      "source": [
        "x_value=numpy.linspace(1,1000000)\n",
        "y_value = numpy.array([redprimes_upto(x) for x in x_value])"
      ],
      "metadata": {
        "id": "T2gF_bhAKNPV"
      },
      "execution_count": 170,
      "outputs": []
    },
    {
      "cell_type": "code",
      "source": [
        "next_y_value=numpy.array([blueprimes_upto(x) for x in x_value])"
      ],
      "metadata": {
        "id": "TPsbY4cjMh4i"
      },
      "execution_count": 173,
      "outputs": []
    },
    {
      "cell_type": "code",
      "source": [
        "\n",
        "%matplotlib inline\n",
        "\n",
        "plt.plot(x_value,y_value)\n",
        "plt.title('Redprime Counting Function')\n",
        "plt.ylabel('Number of Redprimes')\n",
        "plt.xlabel('x')\n",
        "plt.grid(True)\n",
        "plt.show()\n",
        "\n"
      ],
      "metadata": {
        "colab": {
          "base_uri": "https://localhost:8080/",
          "height": 295
        },
        "id": "KpL1g0ieBK0h",
        "outputId": "e2b67cb4-4106-4ead-8b10-8e54cdc6bce9"
      },
      "execution_count": 172,
      "outputs": [
        {
          "output_type": "display_data",
          "data": {
            "text/plain": [
              "<Figure size 432x288 with 1 Axes>"
            ],
            "image/png": "[encoded data removed]"
          },
          "metadata": {
            "needs_background": "light"
          }
        }
      ]
    },
    {
      "cell_type": "code",
      "source": [
        "%matplotlib inline\n",
        "\n",
        "plt.plot(x_value,next_y_value)\n",
        "plt.title('Blueprime Counting Function')\n",
        "plt.ylabel('Number of Blueprimes')\n",
        "plt.xlabel('x')\n",
        "plt.grid(True)\n",
        "plt.show()"
      ],
      "metadata": {
        "colab": {
          "base_uri": "https://localhost:8080/",
          "height": 295
        },
        "id": "loA-0Fi_MdqT",
        "outputId": "4d040e03-ed6e-466a-c12d-695f41914dcd"
      },
      "execution_count": 174,
      "outputs": [
        {
          "output_type": "display_data",
          "data": {
            "text/plain": [
              "<Figure size 432x288 with 1 Axes>"
            ],
            "image/png": "[encoded data removed]"
          },
          "metadata": {
            "needs_background": "light"
          }
        }
      ]
    },
    {
      "cell_type": "code",
      "source": [
        "#The proportions between red and blue primes seem very very similar. If you look right below the \n",
        "#.5 mark, both graphs land perfectly on 20000. "
      ],
      "metadata": {
        "id": "IpuRgXa_Y1ea"
      },
      "execution_count": 122,
      "outputs": []
    },
    {
      "cell_type": "code",
      "source": [
        "#2\n",
        "counter_for_1=[p for p in primes[:100] if p%10==1]\n",
        "counter_for_2=[p for p in primes[:100] if p%10==2]\n",
        "counter_for_3=[p for p in primes[:100] if p%10==3]\n",
        "counter_for_5=[p for p in primes[:100] if p%10==5]\n",
        "counter_for_7=[p for p in primes[:100] if p%10==7]\n",
        "counter_for_9=[p for p in primes[:100] if p%10==9]\n",
        "\n",
        "print(len(counter_for_1))\n",
        "print(len(counter_for_2))\n",
        "print(len(counter_for_3))\n",
        "print(len(counter_for_5))\n",
        "print(len(counter_for_7))\n",
        "print(len(counter_for_9))\n",
        "\n",
        "#I would say, by looking at the primes from 1 to 100, that other than 2 and 5, they are pretty similar.\n",
        "#the primes don't seem to hugely favor any particular number, just a small favor in number 3. \n",
        "\n",
        "\n",
        "\n"
      ],
      "metadata": {
        "id": "fZu0lcjr44h3",
        "colab": {
          "base_uri": "https://localhost:8080/"
        },
        "outputId": "ec7dfbfc-a215-49db-b437-6cde42991b6b"
      },
      "execution_count": 178,
      "outputs": [
        {
          "output_type": "stream",
          "name": "stdout",
          "text": [
            "24\n",
            "1\n",
            "26\n",
            "1\n",
            "24\n",
            "24\n"
          ]
        }
      ]
    },
    {
      "cell_type": "code",
      "source": [
        "#3\n",
        "print(where(isprime_list(100)))\n",
        "L=numpy.array(where(isprime_list(100)))\n",
        "print(L)\n",
        "digits=L%10\n",
        "print(digits)"
      ],
      "metadata": {
        "colab": {
          "base_uri": "https://localhost:8080/"
        },
        "id": "aR7XMJJJOUg6",
        "outputId": "b9d3a559-2041-4181-c46b-b8877fd2aa44"
      },
      "execution_count": 186,
      "outputs": [
        {
          "output_type": "stream",
          "name": "stdout",
          "text": [
            "[2, 3, 5, 7, 11, 13, 17, 19, 23, 29, 31, 37, 41, 43, 47, 53, 59, 61, 67, 71, 73, 79, 83, 89, 97]\n",
            "[ 2  3  5  7 11 13 17 19 23 29 31 37 41 43 47 53 59 61 67 71 73 79 83 89\n",
            " 97]\n",
            "[2 3 5 7 1 3 7 9 3 9 1 7 1 3 7 3 9 1 7 1 3 9 3 9 7]\n"
          ]
        }
      ]
    },
    {
      "cell_type": "code",
      "source": [
        "#We can see here that for the first primes from 1 to 100, the last digit never repeats immediately\n",
        "#besides that, it seems to be pretty random at which number will be next."
      ],
      "metadata": {
        "id": "wwGO_ZCMPoao"
      },
      "execution_count": null,
      "outputs": []
    }
  ]
}